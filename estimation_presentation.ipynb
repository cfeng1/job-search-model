{
 "cells": [
  {
   "cell_type": "markdown",
   "metadata": {},
   "source": [
    "# Applied Micro Study Group: Computation\n",
    "*Apr 23, 2019*\n",
    "\n",
    "*Mauro Moretto, Faith Feng*\n",
    "\n",
    "## Overview:\n",
    "1. Improve your workflow with JupyterLab, some coding tips\n",
    "2. Simulate data of the single agent job search model based on *Application 1: Search Model* in *Nonstationary Dynamic Models with Finite Dependence* (Arcidiacono and Miller, 2019)\n",
    "3. Estimation with CCP \n",
    "\n",
    "## 1. JupyterLab: Smoothing Your Workflow\n",
    "\n",
    "- JupyterLab is an augmentation of the very popular Jupyter Notebook which supports over 40 programming languages such as Python, R, Julia.\n",
    "\n",
    "- Like Jupyter Notebook, one can keep the comments and notes together with your codes. One can display the results of your code cleanly as well.\n",
    "\n",
    "- So it is very good for developing codes since you can record your ideas and experiment your codes at the same place.\n",
    "\n",
    "- However, Jupyter Notebook (file type *.ipynb* instead of *.py*) is slower than compiling Python (*.py*) codes in terminal, so people usually just use it to experiment ideas, keep records of code development or presenting codes.\n",
    "\n",
    "- With JupyterLab, one can transfer the codes easily to traditional Python files and compile in terminals.\n",
    "\n",
    "### Good code styles can help you in the long-run\n",
    "\n",
    "It is generally good pratice to:\n",
    "\n",
    "- __name your variables and functions well__ Don't be lazy to write short abbreviations of names that are hard to understand)  \n",
    "- __avoid magic numbers__ (unique values with unexplained meaning or multiple occurrences which could be replaced with named constants) to clarify meaning, so that other people (including yourself after not working on the project for a while) can quickly understand what's going on.  \n",
    "- __avoid copy-pasting your code__ Instead, write functions or classes with changeable parameters.  \n",
    "- __minimize the usage of global variables__ They can be really messy in a medium or large sized project, as they can easily affect what happens in your code. And at the same time, they can be modified by any part of your program. See *Global variables are BAD* (http://wiki.c2.com/?GlobalVariablesAreBad)"
   ]
  },
  {
   "cell_type": "markdown",
   "metadata": {},
   "source": [
    "### Why Python is not that bad?\n",
    "\n",
    "1. Community support:\n",
    "\n",
    "| Language| Registered Packages | GitHub Projects | Reddit | Job Postings |\n",
    "| :---   |     :---:           |     :---:       | :---:  |    :---:    |\n",
    "| Python | 176,369             |    2,182,259    | 350k   | 30,328      |\n",
    "| R      | 14,094              |      561,434    | 13.5k  | 8,563       |\n",
    "| Julia  | over 2,400          |       16,394    | 6.5k   | 203         |\n",
    "Data Sources:\n",
    "*Registered packages: Pypi.org (Python), R-CRAN (R), Julialang (Julia)  \n",
    "*GitHub projects: from GHTorrent data collected in 2018  \n",
    "*Reddit: members of subreddits r/Python, r/Rlanguage and r/Julia  \n",
    "*Job posting: search by \"language programming\" (language=Python, R, Julia) on Indeed.com (Apr 17, 2019)  \n",
    "\n",
    "2. Speed:\n",
    "Python is slow compared to low-level languages like C/C++, Java .etc for mainly 2 reasons:\n",
    "    - It is interpreted rather than compiled (it translates higher level languages into lower-level/faster languages). Common problem for all high-level languages.\n",
    "    - Global Interpreter Lock (GIL): prevents multi-threading, but it greatly simplifies programming complexity faced by developers.\n",
    "\n",
    "However, there are ways to boost the performance (such as multi-processing instead of multi-threading). And it is important to keep in mind that, most of the times, especially for not so professionally trained programmers (such as myself), the greatest restriction on the performance is the underlying algorithm of the program that one writes.\n",
    "\n",
    "*Yes, the performance matters. But the user/developer experience also matters. Python is known for being simple to program, easy to read and maintain.*\n",
    "\n",
    "__Conclusion: Don't use Python to program fancy video games. But for most of data analysis purposes, it is not necessarily low-performing, and it has much more community supports.__"
   ]
  },
  {
   "cell_type": "markdown",
   "metadata": {},
   "source": [
    "## 2. Data Simulation\n",
    "\n",
    "### A Simple Job Search Model\n",
    "\n",
    "- Each period $t \\in \\{1, \\cdots, T\\}$, an individual may stay home ($d_{1t} = 1$) or apply for temporary employment setting ($d_{2t}=1$). \n",
    "\n",
    "- Job applicants are successful with probability $\\lambda_{t}$, and the value of the position depends on the experience of the individual denoted by $x \\in \\{1, \\cdots, X\\}$. \n",
    "$$\\lambda_{t} = 0.5\\frac{x_t}{(T-1)}+0.5, ~~ x_t \\in \\{0, \\cdots, T-1\\}$$\n",
    "\n",
    "- If the individual works his experience increases by one unit, and remains at the current level otherwise.\n",
    "\n",
    "- The preference primitives are given by the current utility from staying home, denoted by $u_{1}(x_t) $, and the utility of working $u_2(x_t)$.\n",
    "$$u_{1}(x_t) = 0, ~~u_{2}(x_t) = \\frac{x_t^{1-\\eta}}{1-\\eta}$$\n",
    "\n",
    "### A touch of software engineering: Top-Down v.s. Bottom-Up Design\n",
    "\n",
    "- Top-Down: Write the big framework first, then fill in the smaller functions that the big framework needs.\n",
    "\n",
    "    *advantage*: no need to think about every little details of implementation first; it can help you figure out what kind of supporting functions you need, and makes project management easier.\n",
    "\n",
    "    *disadvantage*: no coding can start until there is a thorough understanding of the entire structure of the project.\n",
    "\n",
    "- Bottom-Up: Write the smaller elements first, then write the big framework.\n",
    "\n",
    "    *advantage*: it is easier to test the smaller functions as soon as you create them\n",
    "    \n",
    "    *disadvantage*: it is usually easier to lose track of the big framework in which the small functions operate, and may lead to a non-optimized implementation of such functions"
   ]
  },
  {
   "cell_type": "code",
   "execution_count": 1,
   "metadata": {
    "collapsed": true
   },
   "outputs": [],
   "source": [
    "import numpy as np\n",
    "import pandas as pd\n",
    "import functools, itertools\n",
    "import os, time, random\n",
    "import matplotlib.pyplot as plt\n",
    "import scipy.optimize as sop"
   ]
  },
  {
   "cell_type": "markdown",
   "metadata": {},
   "source": [
    "### Compute Expected Maximum of Two Random Variables\n",
    "\n",
    "Here we have a special case of a constant plus a TIEV random variable. So we can just generate a big list of TIEV random numbers, add the constant, and then take an average."
   ]
  },
  {
   "cell_type": "code",
   "execution_count": 2,
   "metadata": {
    "collapsed": false
   },
   "outputs": [
    {
     "name": "stdout",
     "output_type": "stream",
     "text": [
      "2.7165207382078775 0.0\n",
      "0.013010501861572266\n"
     ]
    }
   ],
   "source": [
    "def expectedMax(*args, mu=0, beta=1, size=2000):\n",
    "    # compute Emax[val1+epsilon1, val2+epsilon2]\n",
    "    np.random.seed(100)\n",
    "    total_values = [args[i]+np.random.gumbel(mu, beta, size) for i in range(len(args))]\n",
    "    return np.average([max(x) for x in zip(*total_values)])\n",
    "\n",
    "## test case\n",
    "start = time.time()\n",
    "x2 = []\n",
    "i=0\n",
    "while i<=1:\n",
    "    x2 += [expectedMax(0, 2, mu=0, beta=1, size=5000)]\n",
    "    i += 1\n",
    "print(np.mean(x2), np.std(x2))\n",
    "print(time.time()-start)"
   ]
  },
  {
   "cell_type": "markdown",
   "metadata": {},
   "source": [
    "### Compute Future/Continuation Value\n",
    "\n",
    "Let the conditional choice value be:\n",
    "$$ v_{jt}(x_t) = u_{jt}(x_t) + \\delta E[V_{t+1}(x_{t+1}) | x_{t}, j]$$\n",
    "Here we're computing the second part of the total conditional value, where:\n",
    "$$\n",
    "E[V_{t+1}(x_{t+1}) | x_{t}, j] = E_{x_{t+1}, \\epsilon_{1t+1},\\epsilon_{2t+1}}\\left[\\max\\left\\{ u_{1t+1}(x_{t+1}) + \\epsilon_{1t+1} + \\delta E[V(x_{t+2})|x_{t+1}, j=1], \\\\\n",
    "u_{2t+1}(x_{t+1}) + \\epsilon_{2t+1} + \\delta E[V(x_{t+2})|x_{t+1}, j=2]\\right\\} |~x_t, j \\right]\n",
    "$$\n",
    "\n",
    "The transition of state variable $x_t$:\n",
    "$$\n",
    "F(x_{t+1} = x_t |x_t, j=1) = 1 \\\\\n",
    "F(x_{t+1} = x_t |x_t, j=2) = 1-\\lambda_{t} \\\\\n",
    "F(x_{t+1} = x_t+1 |x_t, j=2) = \\lambda_{t}\n",
    "$$\n",
    "\n",
    "So with current work experience $x_t$, if the current choice is $d_t=1$, the work experience next period $x_{t+1}$ is $x_t$ for sure. The continuation value at $t$ is $V(x_t)$.\n",
    "But if $d_t=2$, the work experience next period can be $x_t$ or $x_t+1$. The continuation value at $t$ is $\\lambda_t V(x_t+1)+(1-\\lambda_t) V(x_t)$.\n",
    "\n",
    "### A bit more coding trick:\n",
    "\n",
    "- Python allows recursive functions.\n",
    "- Recursive functions are sometimes easier to write and to read when the problem is recursive in nature (such as the classical Fibonacci function) than traditional iterations (for/while loops), but it's usually __much__ slower in Python.\n",
    "- However, one can improve the performance of recursion greatly in Python using \"memoization\".\n",
    "- Memoization means that we tell the program to memorize the \"intermediate\" results to avoid unnecessary calculations by keeping a \"memo\" of previous calculated results."
   ]
  },
  {
   "cell_type": "code",
   "execution_count": 9,
   "metadata": {
    "collapsed": true
   },
   "outputs": [],
   "source": [
    "## success rate of job application\n",
    "success = lambda work_experience, T=10: (work_experience/(T-1))*0.5+0.5\n",
    "successRates = [success(x) for x in range(10)]"
   ]
  },
  {
   "cell_type": "code",
   "execution_count": 15,
   "metadata": {
    "collapsed": false
   },
   "outputs": [
    {
     "name": "stdout",
     "output_type": "stream",
     "text": [
      "0.131943941116333\n",
      "   individual  choice  experience  age\n",
      "0           0       2           0    0\n",
      "1           0       2           0    1\n",
      "2           0       1           0    2\n",
      "3           0       2           0    3\n",
      "4           0       1           0    4\n"
     ]
    }
   ],
   "source": [
    "def dataSimulationIteration(successRates, theta, discount, N=1000, T=10):\n",
    "    N_sim = 2000\n",
    "    utilityWork = [-np.exp(-theta*x)+0.5 for x in range(0,T)]\n",
    "    utilityHome = [0]*T\n",
    "    # no need to allocate space to store\n",
    "    continuation_value = np.zeros((T+1,T+1))\n",
    "    epsilon_work = np.random.gumbel(0,1,size = N_sim)\n",
    "    epsilon_home = np.random.gumbel(0,1,size = N_sim)\n",
    "    success_shock_sim = np.random.random(size = N_sim)   \n",
    "\n",
    "    for age in range(T-1, -1, -1): \n",
    "        for exp in range(age, -1, -1):              \n",
    "            success_rate = successRates[exp]\n",
    "            success_sim = np.zeros((N_sim,))\n",
    "            success_sim[success_shock_sim <= success_rate] = 1\n",
    "            value_hw = np.zeros((N_sim,2))\n",
    "            value_hw[:,0] = (utilityHome[exp] + epsilon_home + discount*continuation_value[age+1,exp])\n",
    "            value_hw[:,1] = epsilon_work + success_sim*(utilityWork[exp] + discount*continuation_value[age+1,exp+1]) + (\n",
    "                1-success_sim)*(utilityHome[exp] + discount*continuation_value[age+1,exp])\n",
    "            \n",
    "            continuation_value[age,exp] = np.mean(np.max(value_hw,axis=1))\n",
    "    \n",
    "    def individualSimulation(i):  \n",
    "        nonlocal T, successRates, continuation_value\n",
    "        epsilon_work_i = np.random.gumbel(0,1,size = T)\n",
    "        epsilon_home_i = np.random.gumbel(0,1,size = T)\n",
    "        success_shock_sim = np.random.random(size=T)   \n",
    "        \n",
    "        exp_i = np.zeros((T,),dtype = int)\n",
    "        choice_i = np.zeros((T,),dtype = int)\n",
    "        \n",
    "        for age in range(T):            \n",
    "            success_rate = successRates[exp_i[age]]\n",
    "            value_home = (utilityHome[exp_i[age]] + epsilon_home_i[age] + discount*continuation_value[age+1,exp_i[age]])\n",
    "            value_work = (epsilon_work_i[age] + success_rate*(utilityWork[exp_i[age]] + discount*continuation_value[age+1,exp_i[age]+1]) + (1-success_rate)*(utilityHome[exp_i[age]] + discount*continuation_value[age+1,exp_i[age]]))\n",
    "            choice_i[age] = 1 + int(value_home <= value_work)\n",
    "            if (age < T-1):\n",
    "                    exp_i[age+1] = exp_i[age] + (choice_i[age] == 2) *(\n",
    "                        success_shock_sim[age] <= success_rate) \n",
    "            \n",
    "        matrix_sim_i = np.zeros((T,4),dtype = int)\n",
    "        matrix_sim_i[:,0] = i*np.ones((T,))\n",
    "        matrix_sim_i[:,1] = choice_i\n",
    "        matrix_sim_i[:,2] = exp_i\n",
    "        matrix_sim_i[:,3] = range(0,T)    \n",
    "        \n",
    "        return matrix_sim_i\n",
    "    \n",
    "    matrix_sim = np.zeros((N*T,4))     \n",
    "    \n",
    "    for i in range(0,N):\n",
    "        \n",
    "        matrix_sim[i*T:(i+1)*T,:] = individualSimulation(i)\n",
    "        \n",
    "    df_sim = pd.DataFrame(matrix_sim, columns=[\"individual\", \"choice\", \"experience\", \"age\"],dtype = int)\n",
    "            \n",
    "    return df_sim\n",
    "\n",
    "start = time.time()    \n",
    "bla = dataSimulationIteration(successRates, 2, 0.9)\n",
    "bla.to_pickle('bla_simulation_search_data.pkl')\n",
    "end = time.time()\n",
    "print(end-start)\n",
    "print(bla.head())"
   ]
  },
  {
   "cell_type": "code",
   "execution_count": null,
   "metadata": {
    "collapsed": true
   },
   "outputs": [],
   "source": [
    "# decorator function: function that takes another function as argument\n",
    "def memoize(function):\n",
    "    memo = {}\n",
    "    def helper(x):\n",
    "        if x not in memo:            \n",
    "            memo[x] = function(x)\n",
    "        return memo[x]\n",
    "    return helper\n",
    "\n",
    "def saveData(res, T, N):\n",
    "    individuals = list(itertools.chain(*[[i]*T for i in range(N)]))\n",
    "    time_periods = list(itertools.chain(*[list(range(T)) for i in range(N)]))\n",
    "    work_experiences = list(itertools.chain(*[item[0] for item in res]))\n",
    "    choices = list(itertools.chain(*[item[1] for item in res]))\n",
    "    data = pd.DataFrame({'individual': individuals, 'age': time_periods, \n",
    "                         'work_experience': work_experiences, 'choice': choices})\n",
    "    return data"
   ]
  },
  {
   "cell_type": "code",
   "execution_count": 129,
   "metadata": {
    "collapsed": false
   },
   "outputs": [
    {
     "name": "stdout",
     "output_type": "stream",
     "text": [
      "0.1379246711730957\n",
      "   individual  choice  experience  age\n",
      "0           0       2           0    0\n",
      "1           0       1           1    1\n",
      "2           0       2           1    2\n",
      "3           0       2           2    3\n",
      "4           0       2           3    4\n",
      "0.29183220863342285\n",
      "   age  choice  individual  work_experience\n",
      "0    0       1           0                0\n",
      "1    1       2           0                0\n",
      "2    2       2           0                0\n",
      "3    3       1           0                0\n",
      "4    4       2           0                0\n"
     ]
    }
   ],
   "source": [
    "# simulate data given the parameter\n",
    "def dataSimulationRecursion(successRates, theta, discount, N=1000, T=10):\n",
    "    # successRates should be a list or array that can be sliced by index\n",
    "    utilityWork = [-np.exp(-theta*x)+0.5 for x in range(0,T)]\n",
    "    utilityHome = [0]*T\n",
    "    @memoize\n",
    "    def continuationValue(arg_tuple):\n",
    "        nonlocal discount, successRates\n",
    "        t, T, work_experience, current_choice = arg_tuple\n",
    "        if t>=T-1:\n",
    "            return 0\n",
    "        else:\n",
    "            success_rate = successRates[work_experience]\n",
    "            state_tuple_home = (t+1, T, work_experience, 1)\n",
    "            value_home = (utilityHome[work_experience]+\n",
    "                             continuationValue(state_tuple_home))\n",
    "            state_tuple_work = (t+1, T, work_experience, 2)\n",
    "            value_work = (utilityWork[work_experience]+\n",
    "                             continuationValue(state_tuple_work))\n",
    "            if current_choice==1:\n",
    "                # now home -> state variable next period stays the same\n",
    "                continuation_value = discount*expectedMax(value_home, value_work)\n",
    "            else:\n",
    "                # now work -> state variable next period may change\n",
    "                # if job application succeeds\n",
    "                state_tuple_home_success = (t+1, T, work_experience+1, 1)\n",
    "                value_home_success = (utilityHome[work_experience+1]+\n",
    "                             continuationValue(state_tuple_home_success))\n",
    "                # if job application fails\n",
    "                state_tuple_work_success = (t+1, T, work_experience+1, 2)\n",
    "                value_work_success = (utilityWork[work_experience+1]+\n",
    "                             continuationValue(state_tuple_work_success))\n",
    "                # total continuation value\n",
    "                continuation_value = discount*(\n",
    "                    success_rate*expectedMax(value_home_success, value_work_success)+\n",
    "                    (1-success_rate)*expectedMax(value_home, value_work))\n",
    "            return continuation_value\n",
    "        \n",
    "    def generateChoices(T, successRates, discount, mu=0, beta=1):\n",
    "        # default mu and beta -> type I extreme value\n",
    "        work_experience = 0\n",
    "        work_experiences = [work_experience]\n",
    "        choices = []\n",
    "        actual_shock_home = np.random.gumbel(mu, beta, T)\n",
    "        actual_shock_work = np.random.gumbel(mu, beta, T)\n",
    "        t = 0\n",
    "        while t<=T-1:\n",
    "            success_rate = successRates[work_experience]\n",
    "            job_search = random.random()\n",
    "            state_tuple_home = (t, T, work_experience, 1)\n",
    "            state_tuple_work = (t, T, work_experience, 2)\n",
    "            value_home = (utilityHome[work_experience]+actual_shock_home[t]+\n",
    "                          discount*continuationValue(state_tuple_home))\n",
    "            value_work = (actual_shock_work[t]+success_rate*utilityWork[work_experience]+\n",
    "                          (1-success_rate)*utilityHome[work_experience]+\n",
    "                          discount*continuationValue(state_tuple_work))\n",
    "            choices += [1+(value_home<=value_work)]\n",
    "            if t<T-1:\n",
    "                work_experience += (job_search<=success_rate)*(value_home<=value_work)\n",
    "                work_experiences += [work_experience]\n",
    "            t += 1\n",
    "        return work_experiences, choices\n",
    "    res = [generateChoices(T, successRates, discount) for i in range(N)]\n",
    "    data = saveData(res, T, N)\n",
    "    return data\n",
    "\n",
    "start = time.time()\n",
    "data = dataSimulationRecursion(successRates, 2, 0.9)\n",
    "data.to_pickle('simulation_search_data.pkl')\n",
    "print(time.time()-start)\n",
    "print(data.head())"
   ]
  },
  {
   "cell_type": "markdown",
   "metadata": {},
   "source": [
    "## 2. Estimation Using Data\n",
    "General idea: minimizing the distance between simulated choice probabilities and empirical choice probabilities. (*Related lecture notes: http://www.its.caltech.edu/~mshum/gradio/single-dynamics2.pdf*)\n",
    "\n",
    "Procedure:\n",
    "1. Estimate conditional choice probability $\\hat{P}(d|X)$\n",
    "2. Estimate transition probability (job search success rate)\n",
    "3. Simulate value functions, generate model choice probability $\\tilde{P}(d|X, \\theta)$\n",
    "4. Estimate by minimum distance \n",
    "$$ \\min_{{\\theta}}\\left|\\left|\\mathbf{\\tilde{P}}(d|X, \\theta)-\\mathbf{\\hat{P}}(d|X)\\right|\\right|^2_2$$\n",
    "\n",
    "Note: To see more computation implementation of other methods (MPEC, NFP, .etc), I recommend Professor Param Vir Singh's class *PhD Seminar on Estimating Dynamic and Structural Models*. The course is taught in Matlab, but you're free to do the assignments in whatever language you like."
   ]
  },
  {
   "cell_type": "code",
   "execution_count": 5,
   "metadata": {
    "collapsed": false
   },
   "outputs": [],
   "source": [
    "# load data and lag the data to get future work experience\n",
    "data = pd.read_pickle('simulation_search_data.pkl')\n",
    "data['future_work_experience'] = data['work_experience'].shift(-1).values.astype(int)\n",
    "T = 10\n",
    "mask = data.age == T-1\n",
    "data.loc[mask,'future_work_experience'] = 999"
   ]
  },
  {
   "cell_type": "markdown",
   "metadata": {},
   "source": [
    "Now, we we want to estimate the condtional choice probabilities. Given that the problem is non-stationary, we need to compute:\n",
    "$$\\hat{p}(d = 2|x,t)= \\frac{\\sum_{i=1}^N \\mathbf{1}  \\left( x_{it} = x, d_{it} = 2 \\right)}{\\sum_{i=1}^N \\mathbf{1} \\left( x_{it} = x \\right)}$$\n",
    "Now, it may be the case that for certain combinations of $(x,t)$, we do not have any observation.\n",
    "\n",
    "In our simulation, all agents are born in period $t=0$, and have no experience, so that \n",
    "$$x_{i0}=0 \\ \\forall i=1,\\cdots,N$$\n",
    "\n",
    "This also implies that in the data we will not observe $x_{it}>t$ for any agent $i$. If we define \n",
    "$$\\mathbf{\\hat{P}}=[\\hat{p}_{ij}] = [\\hat{p}(d =2 | t=i,x=j)]$$\n",
    "then we should expect $\\hat{\\mathbf{P}}$ to be defined only in its lower-triangular portion. "
   ]
  },
  {
   "cell_type": "code",
   "execution_count": 73,
   "metadata": {
    "collapsed": false
   },
   "outputs": [
    {
     "name": "stdout",
     "output_type": "stream",
     "text": [
      "Computation time, very inefficient code: 0.23186635971069336: \n",
      "Computation time, less inefficient code: 0.08295178413391113: \n"
     ]
    }
   ],
   "source": [
    "def ccp_fun_inefficient(data):\n",
    "\n",
    "    ccp = np.zeros((T,T))\n",
    "    W = np.zeros((T,T))\n",
    "    for age in range(0,T):\n",
    "        for exp in range(0,T):\n",
    "            num = len(data[(data['age'] == age) & (data['work_experience'] == exp) & (data['choice'] == 2) ])\n",
    "            den = len(data[(data['age'] == age) & (data['work_experience'] == exp)]) \n",
    "            W[age,exp] = den\n",
    "            if den == 0:\n",
    "                ccp[age,exp] = np.nan\n",
    "            else:\n",
    "                ccp[age,exp] = num/den\n",
    "        \n",
    "    ccp_vec = ccp[np.tril_indices(T)]\n",
    "    W = W[np.tril_indices(T)]/np.sum(W)\n",
    "    ccp_vec[np.isnan(ccp_vec)] = 999\n",
    "    \n",
    "    return ccp_vec, W\n",
    "\n",
    "start = time.time()\n",
    "data = pd.read_pickle('simulation_search_data.pkl')\n",
    "actual_ccp,actual_W = ccp_fun_inefficient(data)\n",
    "print(\"Computation time, very inefficient code: {}: \".format(time.time()-start))\n",
    "\n",
    "def ccp_fun(data):\n",
    "    \n",
    "    def ccp_state_fun(arg):\n",
    "        age , exp =  arg\n",
    "        mask_den = (data['age'] == age) & (data['work_experience'] == exp)\n",
    "        mask_num = (mask_den) & (data['choice'] == 2) \n",
    "        W_state = np.sum(mask_den)\n",
    "        ccp_state = np.sum(mask_num) / W_state if W_state>0 else 999\n",
    "        return ccp_state,W_state\n",
    "       \n",
    "    output = [ccp_state_fun(item) for item in filter(lambda x: x[0]>=x[1], itertools.product(range(0,T),range(0,T)))]\n",
    "    ccp = np.array([item[0] for item in output])\n",
    "    W = np.array([item[1] for item in output])\n",
    "    W = W / np.sum(W)\n",
    "    \n",
    "    return ccp , W\n",
    "    \n",
    " \n",
    "start_time = time.time()\n",
    "data = pd.read_pickle('simulation_search_data.pkl')\n",
    "actual_ccp,actual_W = ccp_fun(data)\n",
    "print(\"Computation time, less inefficient code: {}: \".format(time.time()-start_time))\n"
   ]
  },
  {
   "cell_type": "markdown",
   "metadata": {},
   "source": [
    "Now we want to estimate the probability of job acceptance conditional on the level of experience accumulated over the working life: \n",
    "$$\\hat{\\lambda} (x)  = \\frac{\\sum_{i=1}^N \\sum_{t=0}^{T-1} \\mathbf{1} \\left( x_{it}=x, x_{it+1} = x + 1, d_{it}=2  \\right)}{\\sum_{i=1}^N \\sum_{t=0}^{T-1} \\mathbf{1} \\left( x_{it}=x, d_{it}=2  \\right)}  $$"
   ]
  },
  {
   "cell_type": "code",
   "execution_count": 74,
   "metadata": {
    "collapsed": false
   },
   "outputs": [
    {
     "data": {
      "image/png": "[encoded data removed]",
      "text/plain": [
       "<matplotlib.figure.Figure at 0x24ceb9528d0>"
      ]
     },
     "metadata": {},
     "output_type": "display_data"
    }
   ],
   "source": [
    "# estimation transition probability/success rate\n",
    "def p_acpt_fun(data):\n",
    "\n",
    "    data['future_work_experience'] = data['work_experience'].shift(-1).values.astype(int)\n",
    "    mask = data.age == T-1\n",
    "    data.loc[mask,'future_work_experience'] = 999\n",
    "    \n",
    "    p_acpt = np.zeros((T-1,))\n",
    "    for i in range(0,T-1):\n",
    "        num = np.sum((data['age'] < T-1) & (data['work_experience'] == i) & (data['future_work_experience'] == i + 1) & (data['choice'] == 2))\n",
    "        den = np.sum((data['age'] < T-1) & (data['work_experience'] == i) & (data['choice'] == 2)) \n",
    "        if den > 0:\n",
    "            p_acpt[i] = num / den\n",
    "        else:\n",
    "            p_acpt[i] = np.nan\n",
    "\n",
    "    return p_acpt\n",
    "\n",
    "data = pd.read_pickle('simulation_search_data.pkl')\n",
    "success_rates = p_acpt_fun(data)\n",
    "\n",
    "plt.figure()\n",
    "plt.plot(range(0,9),success_rates,'r',label='Empirical')\n",
    "plt.plot(range(0,9),[0.5 + 0.5/(T-1) * item for item in range(0,9)],'b',label = 'True')\n",
    "plt.xlabel(r'$x$')\n",
    "plt.ylabel(r'$\\lambda(x)$')\n",
    "plt.legend()\n",
    "plt.show()\n"
   ]
  },
  {
   "cell_type": "code",
   "execution_count": 82,
   "metadata": {
    "collapsed": false
   },
   "outputs": [],
   "source": [
    "# minimizing distance between predicted CCP and actual CCP\n",
    "\n",
    "def predictCCP(success_rates, theta, discount):\n",
    "    data = dataSimulation(successRates, theta, discount)\n",
    "    ccp, W = ccp_fun(data)\n",
    "    return ccp, W\n",
    "\n",
    "def estimator(parameters):\n",
    "    global actual_ccp, success_rate\n",
    "    theta = parameters[0]\n",
    "    discount = parameters[1]\n",
    "    predicted_ccp, W = predictCCP(success_rates, theta, discount)\n",
    "    distance = np.sum(np.multiply((predicted_ccp-actual_ccp)**2,W))\n",
    "    return distance\n",
    "\n",
    "theta_vec = np.linspace(1.1,2.9,20)\n",
    "discount_vec = np.linspace(0.5,1,20)\n",
    "obj = [estimator(item) for item in itertools.product(theta_vec,discount_vec)]\n",
    "\n"
   ]
  },
  {
   "cell_type": "code",
   "execution_count": 83,
   "metadata": {
    "collapsed": false
   },
   "outputs": [
    {
     "name": "stdout",
     "output_type": "stream",
     "text": [
      "[(2.0473684210526315, 0.8947368421052632), (1.5736842105263158, 0.9473684210526315), (1.763157894736842, 0.9473684210526315), (2.236842105263158, 0.8947368421052632), (2.4263157894736844, 0.8947368421052632), (1.3842105263157896, 0.9473684210526315), (2.6157894736842104, 0.8947368421052632), (2.1421052631578945, 0.8421052631578947), (2.1421052631578945, 0.8947368421052632), (1.5736842105263158, 0.9210526315789473)]\n",
      "[0.00095397149582135, 0.0011454438392347558, 0.0011861003654897921, 0.0012368233151483178, 0.001265058498162237, 0.0012915357806275935, 0.0013109378396400086, 0.0013490009446168755, 0.0013565565800431163, 0.001378606931259905]\n"
     ]
    }
   ],
   "source": [
    "y = list(itertools.product(theta_vec,discount_vec))\n",
    "smallest_ten = sorted(obj)[0:10]\n",
    "objective = list(zip(obj, y))\n",
    "objective = dict(objective)\n",
    "print([objective[x] for x in smallest_ten])\n",
    "print(smallest_ten)"
   ]
  },
  {
   "cell_type": "code",
   "execution_count": null,
   "metadata": {
    "collapsed": true
   },
   "outputs": [],
   "source": [
    "estimated_parameters = sop.minimize(estimator2, x0=(1.1, 0.9), method='powell')"
   ]
  },
  {
   "cell_type": "code",
   "execution_count": null,
   "metadata": {
    "collapsed": true
   },
   "outputs": [],
   "source": [
    "tuple(estimated_parameters['x'])"
   ]
  },
  {
   "cell_type": "code",
   "execution_count": null,
   "metadata": {
    "collapsed": true
   },
   "outputs": [],
   "source": [
    "print(sop.minimize(estimator2, x0=tuple(estimated_parameters['x']), method='powell'))"
   ]
  },
  {
   "cell_type": "code",
   "execution_count": null,
   "metadata": {
    "collapsed": true
   },
   "outputs": [],
   "source": [
    "print(sop.minimize(estimator2, x0=(8.06984256, 0.83932741), method='powell'))"
   ]
  },
  {
   "cell_type": "code",
   "execution_count": null,
   "metadata": {
    "collapsed": true
   },
   "outputs": [],
   "source": [
    "np.where(np.array(obj)==min(obj))[0][0]"
   ]
  },
  {
   "cell_type": "code",
   "execution_count": null,
   "metadata": {
    "collapsed": true
   },
   "outputs": [],
   "source": [
    "# obj[77]\n",
    "list(itertools.product(theta_vec,discount_vec))[77]"
   ]
  },
  {
   "cell_type": "code",
   "execution_count": null,
   "metadata": {
    "collapsed": false
   },
   "outputs": [],
   "source": [
    "from mpl_toolkits import mplot3d\n",
    "theta_vec1 = [item[0] for item in itertools.product(theta_vec,discount_vec)]\n",
    "discount_vec1 = [item[1] for item in itertools.product(theta_vec,discount_vec)]\n",
    "plt.figure()\n",
    "ax = plt.axes(projection='3d')\n",
    "ax.scatter3D(theta_vec1, discount_vec1, obj, 'gray')\n",
    "plt.show()"
   ]
  },
  {
   "cell_type": "code",
   "execution_count": 78,
   "metadata": {
    "collapsed": false
   },
   "outputs": [
    {
     "ename": "PicklingError",
     "evalue": "Can't pickle <function <lambda> at 0x0000024CEA757D08>: attribute lookup <lambda> on __main__ failed",
     "output_type": "error",
     "traceback": [
      "\u001b[0;31m---------------------------------------------------------------------------\u001b[0m",
      "\u001b[0;31mPicklingError\u001b[0m                             Traceback (most recent call last)",
      "\u001b[0;32m<ipython-input-78-ba76603755f8>\u001b[0m in \u001b[0;36m<module>\u001b[0;34m()\u001b[0m\n\u001b[1;32m      4\u001b[0m     \u001b[0mnum_processors\u001b[0m \u001b[1;33m=\u001b[0m \u001b[0mcpu_count\u001b[0m\u001b[1;33m(\u001b[0m\u001b[1;33m)\u001b[0m\u001b[1;33m\u001b[0m\u001b[1;33m\u001b[0m\u001b[0m\n\u001b[1;32m      5\u001b[0m     \u001b[0mp\u001b[0m\u001b[1;33m=\u001b[0m\u001b[0mPool\u001b[0m\u001b[1;33m(\u001b[0m\u001b[0mprocesses\u001b[0m \u001b[1;33m=\u001b[0m \u001b[0mnum_processors\u001b[0m\u001b[1;33m)\u001b[0m\u001b[1;33m\u001b[0m\u001b[1;33m\u001b[0m\u001b[0m\n\u001b[0;32m----> 6\u001b[0;31m     \u001b[0moutput\u001b[0m \u001b[1;33m=\u001b[0m \u001b[0mp\u001b[0m\u001b[1;33m.\u001b[0m\u001b[0mmap\u001b[0m\u001b[1;33m(\u001b[0m\u001b[0mestimator2\u001b[0m\u001b[1;33m,\u001b[0m\u001b[0mitertools\u001b[0m\u001b[1;33m.\u001b[0m\u001b[0mproduct\u001b[0m\u001b[1;33m(\u001b[0m\u001b[0mtheta_vec\u001b[0m\u001b[1;33m,\u001b[0m\u001b[0mdiscount_vec\u001b[0m\u001b[1;33m)\u001b[0m\u001b[1;33m)\u001b[0m\u001b[1;33m\u001b[0m\u001b[1;33m\u001b[0m\u001b[0m\n\u001b[0m\u001b[1;32m      7\u001b[0m     \u001b[0mprint\u001b[0m\u001b[1;33m(\u001b[0m\u001b[0moutput\u001b[0m\u001b[1;33m)\u001b[0m\u001b[1;33m\u001b[0m\u001b[1;33m\u001b[0m\u001b[0m\n",
      "\u001b[0;32mC:\\Users\\mmoretto\\Anaconda3\\lib\\multiprocessing\\pool.py\u001b[0m in \u001b[0;36mmap\u001b[0;34m(self, func, iterable, chunksize)\u001b[0m\n\u001b[1;32m    286\u001b[0m         \u001b[1;32min\u001b[0m \u001b[0ma\u001b[0m \u001b[0mlist\u001b[0m \u001b[0mthat\u001b[0m \u001b[1;32mis\u001b[0m \u001b[0mreturned\u001b[0m\u001b[1;33m.\u001b[0m\u001b[1;33m\u001b[0m\u001b[1;33m\u001b[0m\u001b[0m\n\u001b[1;32m    287\u001b[0m         '''\n\u001b[0;32m--> 288\u001b[0;31m         \u001b[1;32mreturn\u001b[0m \u001b[0mself\u001b[0m\u001b[1;33m.\u001b[0m\u001b[0m_map_async\u001b[0m\u001b[1;33m(\u001b[0m\u001b[0mfunc\u001b[0m\u001b[1;33m,\u001b[0m \u001b[0miterable\u001b[0m\u001b[1;33m,\u001b[0m \u001b[0mmapstar\u001b[0m\u001b[1;33m,\u001b[0m \u001b[0mchunksize\u001b[0m\u001b[1;33m)\u001b[0m\u001b[1;33m.\u001b[0m\u001b[0mget\u001b[0m\u001b[1;33m(\u001b[0m\u001b[1;33m)\u001b[0m\u001b[1;33m\u001b[0m\u001b[1;33m\u001b[0m\u001b[0m\n\u001b[0m\u001b[1;32m    289\u001b[0m \u001b[1;33m\u001b[0m\u001b[0m\n\u001b[1;32m    290\u001b[0m     \u001b[1;32mdef\u001b[0m \u001b[0mstarmap\u001b[0m\u001b[1;33m(\u001b[0m\u001b[0mself\u001b[0m\u001b[1;33m,\u001b[0m \u001b[0mfunc\u001b[0m\u001b[1;33m,\u001b[0m \u001b[0miterable\u001b[0m\u001b[1;33m,\u001b[0m \u001b[0mchunksize\u001b[0m\u001b[1;33m=\u001b[0m\u001b[1;32mNone\u001b[0m\u001b[1;33m)\u001b[0m\u001b[1;33m:\u001b[0m\u001b[1;33m\u001b[0m\u001b[1;33m\u001b[0m\u001b[0m\n",
      "\u001b[0;32mC:\\Users\\mmoretto\\Anaconda3\\lib\\multiprocessing\\pool.py\u001b[0m in \u001b[0;36mget\u001b[0;34m(self, timeout)\u001b[0m\n\u001b[1;32m    668\u001b[0m             \u001b[1;32mreturn\u001b[0m \u001b[0mself\u001b[0m\u001b[1;33m.\u001b[0m\u001b[0m_value\u001b[0m\u001b[1;33m\u001b[0m\u001b[1;33m\u001b[0m\u001b[0m\n\u001b[1;32m    669\u001b[0m         \u001b[1;32melse\u001b[0m\u001b[1;33m:\u001b[0m\u001b[1;33m\u001b[0m\u001b[1;33m\u001b[0m\u001b[0m\n\u001b[0;32m--> 670\u001b[0;31m             \u001b[1;32mraise\u001b[0m \u001b[0mself\u001b[0m\u001b[1;33m.\u001b[0m\u001b[0m_value\u001b[0m\u001b[1;33m\u001b[0m\u001b[1;33m\u001b[0m\u001b[0m\n\u001b[0m\u001b[1;32m    671\u001b[0m \u001b[1;33m\u001b[0m\u001b[0m\n\u001b[1;32m    672\u001b[0m     \u001b[1;32mdef\u001b[0m \u001b[0m_set\u001b[0m\u001b[1;33m(\u001b[0m\u001b[0mself\u001b[0m\u001b[1;33m,\u001b[0m \u001b[0mi\u001b[0m\u001b[1;33m,\u001b[0m \u001b[0mobj\u001b[0m\u001b[1;33m)\u001b[0m\u001b[1;33m:\u001b[0m\u001b[1;33m\u001b[0m\u001b[1;33m\u001b[0m\u001b[0m\n",
      "\u001b[0;32mC:\\Users\\mmoretto\\Anaconda3\\lib\\multiprocessing\\pool.py\u001b[0m in \u001b[0;36m_handle_tasks\u001b[0;34m(taskqueue, put, outqueue, pool, cache)\u001b[0m\n\u001b[1;32m    448\u001b[0m                         \u001b[1;32mbreak\u001b[0m\u001b[1;33m\u001b[0m\u001b[1;33m\u001b[0m\u001b[0m\n\u001b[1;32m    449\u001b[0m                     \u001b[1;32mtry\u001b[0m\u001b[1;33m:\u001b[0m\u001b[1;33m\u001b[0m\u001b[1;33m\u001b[0m\u001b[0m\n\u001b[0;32m--> 450\u001b[0;31m                         \u001b[0mput\u001b[0m\u001b[1;33m(\u001b[0m\u001b[0mtask\u001b[0m\u001b[1;33m)\u001b[0m\u001b[1;33m\u001b[0m\u001b[1;33m\u001b[0m\u001b[0m\n\u001b[0m\u001b[1;32m    451\u001b[0m                     \u001b[1;32mexcept\u001b[0m \u001b[0mException\u001b[0m \u001b[1;32mas\u001b[0m \u001b[0me\u001b[0m\u001b[1;33m:\u001b[0m\u001b[1;33m\u001b[0m\u001b[1;33m\u001b[0m\u001b[0m\n\u001b[1;32m    452\u001b[0m                         \u001b[0mjob\u001b[0m\u001b[1;33m,\u001b[0m \u001b[0midx\u001b[0m \u001b[1;33m=\u001b[0m \u001b[0mtask\u001b[0m\u001b[1;33m[\u001b[0m\u001b[1;33m:\u001b[0m\u001b[1;36m2\u001b[0m\u001b[1;33m]\u001b[0m\u001b[1;33m\u001b[0m\u001b[1;33m\u001b[0m\u001b[0m\n",
      "\u001b[0;32mC:\\Users\\mmoretto\\Anaconda3\\lib\\multiprocessing\\connection.py\u001b[0m in \u001b[0;36msend\u001b[0;34m(self, obj)\u001b[0m\n\u001b[1;32m    204\u001b[0m         \u001b[0mself\u001b[0m\u001b[1;33m.\u001b[0m\u001b[0m_check_closed\u001b[0m\u001b[1;33m(\u001b[0m\u001b[1;33m)\u001b[0m\u001b[1;33m\u001b[0m\u001b[1;33m\u001b[0m\u001b[0m\n\u001b[1;32m    205\u001b[0m         \u001b[0mself\u001b[0m\u001b[1;33m.\u001b[0m\u001b[0m_check_writable\u001b[0m\u001b[1;33m(\u001b[0m\u001b[1;33m)\u001b[0m\u001b[1;33m\u001b[0m\u001b[1;33m\u001b[0m\u001b[0m\n\u001b[0;32m--> 206\u001b[0;31m         \u001b[0mself\u001b[0m\u001b[1;33m.\u001b[0m\u001b[0m_send_bytes\u001b[0m\u001b[1;33m(\u001b[0m\u001b[0m_ForkingPickler\u001b[0m\u001b[1;33m.\u001b[0m\u001b[0mdumps\u001b[0m\u001b[1;33m(\u001b[0m\u001b[0mobj\u001b[0m\u001b[1;33m)\u001b[0m\u001b[1;33m)\u001b[0m\u001b[1;33m\u001b[0m\u001b[1;33m\u001b[0m\u001b[0m\n\u001b[0m\u001b[1;32m    207\u001b[0m \u001b[1;33m\u001b[0m\u001b[0m\n\u001b[1;32m    208\u001b[0m     \u001b[1;32mdef\u001b[0m \u001b[0mrecv_bytes\u001b[0m\u001b[1;33m(\u001b[0m\u001b[0mself\u001b[0m\u001b[1;33m,\u001b[0m \u001b[0mmaxlength\u001b[0m\u001b[1;33m=\u001b[0m\u001b[1;32mNone\u001b[0m\u001b[1;33m)\u001b[0m\u001b[1;33m:\u001b[0m\u001b[1;33m\u001b[0m\u001b[1;33m\u001b[0m\u001b[0m\n",
      "\u001b[0;32mC:\\Users\\mmoretto\\Anaconda3\\lib\\multiprocessing\\reduction.py\u001b[0m in \u001b[0;36mdumps\u001b[0;34m(cls, obj, protocol)\u001b[0m\n\u001b[1;32m     49\u001b[0m     \u001b[1;32mdef\u001b[0m \u001b[0mdumps\u001b[0m\u001b[1;33m(\u001b[0m\u001b[0mcls\u001b[0m\u001b[1;33m,\u001b[0m \u001b[0mobj\u001b[0m\u001b[1;33m,\u001b[0m \u001b[0mprotocol\u001b[0m\u001b[1;33m=\u001b[0m\u001b[1;32mNone\u001b[0m\u001b[1;33m)\u001b[0m\u001b[1;33m:\u001b[0m\u001b[1;33m\u001b[0m\u001b[1;33m\u001b[0m\u001b[0m\n\u001b[1;32m     50\u001b[0m         \u001b[0mbuf\u001b[0m \u001b[1;33m=\u001b[0m \u001b[0mio\u001b[0m\u001b[1;33m.\u001b[0m\u001b[0mBytesIO\u001b[0m\u001b[1;33m(\u001b[0m\u001b[1;33m)\u001b[0m\u001b[1;33m\u001b[0m\u001b[1;33m\u001b[0m\u001b[0m\n\u001b[0;32m---> 51\u001b[0;31m         \u001b[0mcls\u001b[0m\u001b[1;33m(\u001b[0m\u001b[0mbuf\u001b[0m\u001b[1;33m,\u001b[0m \u001b[0mprotocol\u001b[0m\u001b[1;33m)\u001b[0m\u001b[1;33m.\u001b[0m\u001b[0mdump\u001b[0m\u001b[1;33m(\u001b[0m\u001b[0mobj\u001b[0m\u001b[1;33m)\u001b[0m\u001b[1;33m\u001b[0m\u001b[1;33m\u001b[0m\u001b[0m\n\u001b[0m\u001b[1;32m     52\u001b[0m         \u001b[1;32mreturn\u001b[0m \u001b[0mbuf\u001b[0m\u001b[1;33m.\u001b[0m\u001b[0mgetbuffer\u001b[0m\u001b[1;33m(\u001b[0m\u001b[1;33m)\u001b[0m\u001b[1;33m\u001b[0m\u001b[1;33m\u001b[0m\u001b[0m\n\u001b[1;32m     53\u001b[0m \u001b[1;33m\u001b[0m\u001b[0m\n",
      "\u001b[0;31mPicklingError\u001b[0m: Can't pickle <function <lambda> at 0x0000024CEA757D08>: attribute lookup <lambda> on __main__ failed"
     ]
    }
   ],
   "source": [
    "from multiprocessing import Pool, cpu_count\n",
    "\n",
    "if __name__ ==  '__main__': #this is the only additional line\n",
    "    num_processors = cpu_count()\n",
    "    p=Pool(processes = num_processors)\n",
    "    output = p.map(estimator2,itertools.product(theta_vec,discount_vec))\n",
    "    print(output)"
   ]
  },
  {
   "cell_type": "code",
   "execution_count": 80,
   "metadata": {
    "collapsed": false
   },
   "outputs": [
    {
     "name": "stdout",
     "output_type": "stream",
     "text": [
      "[0.589      0.6022567  0.61168385 0.57114625 0.53608247 0.55660377\n",
      " 0.56200528 0.5519802  0.625      0.53658537 0.6        0.54320988\n",
      " 0.56888889 0.57303371 0.4375     0.54450262 0.58855586 0.62890625\n",
      " 0.59124088 0.62790698 0.66666667 0.52941176 0.55709343 0.54639175\n",
      " 0.55913978 0.61842105 0.77777778 0.75       0.4953271  0.57268722\n",
      " 0.57586207 0.55769231 0.49074074 0.57446809 0.9        0.66666667\n",
      " 0.50684932 0.52406417 0.59073359 0.55737705 0.54545455 0.66666667\n",
      " 0.51851852 0.5        0.5        0.50847458 0.59027778 0.56696429\n",
      " 0.5755102  0.61494253 0.64367816 0.54545455 0.64705882 0.6\n",
      " 0.        ]\n"
     ]
    }
   ],
   "source": [
    "print(actual_ccp)"
   ]
  },
  {
   "cell_type": "code",
   "execution_count": null,
   "metadata": {
    "collapsed": true
   },
   "outputs": [],
   "source": []
  }
 ],
 "metadata": {
  "kernelspec": {
   "display_name": "Python 3",
   "language": "python",
   "name": "python3"
  },
  "language_info": {
   "codemirror_mode": {
    "name": "ipython",
    "version": 3
   },
   "file_extension": ".py",
   "mimetype": "text/x-python",
   "name": "python",
   "nbconvert_exporter": "python",
   "pygments_lexer": "ipython3",
   "version": "3.6.7"
  }
 },
 "nbformat": 4,
 "nbformat_minor": 2
}
