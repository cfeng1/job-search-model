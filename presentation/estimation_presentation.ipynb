{
 "cells": [
  {
   "cell_type": "markdown",
   "metadata": {},
   "source": [
    "# Applied Micro Study Group: Computation\n",
    "*Apr 23, 2019*\n",
    "\n",
    "*Mauro Moretto, Faith Feng*\n",
    "\n",
    "## Overview:\n",
    "1. Improve your workflow with JupyterLab, some coding tips\n",
    "2. Simulate data of the single agent job search model based on *Application 1: Search Model* in *Nonstationary Dynamic Models with Finite Dependence* (Arcidiacono and Miller, 2019)\n",
    "3. Estimation by minimum distance with CCP \n",
    "\n",
    "## 1. JupyterLab: Smoothing Your Workflow\n",
    "\n",
    "- JupyterLab is an augmentation of the very popular Jupyter Notebook which supports over 40 programming languages such as Python, R, Julia.\n",
    "\n",
    "\n",
    "- Like Jupyter Notebook, one can keep the comments and notes together with your codes. One can display the results of your code cleanly as well. (For keeping notes in Markdown, see [Markdown Cheatsheet](https://github.com/adam-p/markdown-here/wiki/Markdown-Cheatsheet#links). Mathematics formula are essentially the same as LaTex.)\n",
    "\n",
    "\n",
    "- So it is very good for developing codes since you can record your ideas and experiment your codes at the same place.\n",
    "\n",
    "\n",
    "- However, Jupyter Notebook (file type *.ipynb* instead of *.py*) is slower than compiling Python (*.py*) codes in terminal, so people usually just use it to experiment ideas, keep records of code development or presenting codes.\n",
    "\n",
    "\n",
    "- With JupyterLab, one can transfer the codes easily to traditional Python files and compile in terminals.\n",
    "\n",
    "### A touch of software engineering: Top-Down v.s. Bottom-Up Design\n",
    "\n",
    "- Top-Down: Write the big framework first, then fill in the smaller functions that the big framework needs.\n",
    "\n",
    "    *advantage*: no need to think about every little details of implementation first; it can help you figure out what kind of supporting functions you need, and makes project management easier.\n",
    "\n",
    "    *disadvantage*: no coding can start until there is a thorough understanding of the entire structure of the project.\n",
    "\n",
    "- Bottom-Up: Write the smaller elements first, then write the big framework.\n",
    "\n",
    "    *advantage*: it is easier to test the smaller functions as soon as you create them\n",
    "    \n",
    "    *disadvantage*: it is usually easier to lose track of the big framework in which the small functions operate, and may lead to a non-optimized implementation of such functions\n",
    "\n",
    "### Good code styles can help you in the long-run\n",
    "\n",
    "It is generally good pratice to:\n",
    "\n",
    "- __name your variables and functions well__ Don't be lazy to write short abbreviations of names that are hard to understand)  \n",
    "\n",
    "- __avoid magic numbers__ (unique values with unexplained meaning or multiple occurrences which could be replaced with named constants) to clarify meaning, so that other people (including yourself after not working on the project for a while) can quickly understand what's going on.  \n",
    "\n",
    "- __avoid copy-pasting your code__ Instead, write functions or classes with changeable parameters.  \n",
    "\n",
    "- __minimize the usage of global variables__ They can be really messy in a medium or large sized project, as they can easily affect what happens in your code. And at the same time, they can be modified by any part of your program. See *Global variables are BAD* (http://wiki.c2.com/?GlobalVariablesAreBad)"
   ]
  },
  {
   "cell_type": "markdown",
   "metadata": {},
   "source": [
    "### Why Python is not that bad?\n",
    "\n",
    "### - Community support:\n",
    "\n",
    "| Language| Registered Packages| GitHub Projects | Reddit | Job Postings |\n",
    "| :---   |     :---:           |     :---:       | :---:  |    :---:    |\n",
    "| Python | 176,369             |    2,182,259    | 350k   | 30,328      |\n",
    "| R      | 14,094              |      561,434    | 13.5k  | 8,563       |\n",
    "| Julia  | over 2,400          |       16,394    | 6.5k   | 203         |"
   ]
  },
  {
   "cell_type": "markdown",
   "metadata": {},
   "source": [
    "Data Sources:\n",
    "\n",
    "*Registered packages: Pypi.org (Python), R-CRAN (R), Julialang (Julia);\n",
    "\n",
    "*GitHub projects: from GHTorrent data collected in 2018; \n",
    "\n",
    "*Reddit: members of subreddits r/Python, r/Rlanguage and r/Julia; \n",
    "\n",
    "*Job posting: search by \"language programming\" (language=Python, R, Julia) on Indeed.com (Apr 17, 2019)  \n",
    "\n",
    "\n",
    "### - Speed:\n",
    "\n",
    "Python is slow compared to low-level languages like C/C++, Java .etc for mainly 2 reasons:\n",
    "1. It is interpreted rather than compiled (it translates higher level languages into lower-level/faster languages). Common problem for all high-level languages.\n",
    "2. Global Interpreter Lock (GIL): prevents multi-threading, but it greatly simplifies programming complexity faced by developers.\n",
    "\n",
    "However, there are ways to boost the performance in Python (such as multiprocessing). And it is important to keep in mind that, most of the times, especially for not so professionally trained programmers (such as myself), the greatest restriction on the performance is the underlying algorithm of the program that one writes.\n",
    "\n",
    "*Yes, the performance matters. But the user/developer experience also matters. Python is known for being simple to program, easy to read and maintain.*\n",
    "\n",
    "__Conclusion: Don't use Python to program fancy video games. But for most of data analysis purposes, it is not necessarily low-performing, and it has much more community supports.__"
   ]
  },
  {
   "cell_type": "markdown",
   "metadata": {},
   "source": [
    "## 2. Data Simulation\n",
    "\n",
    "### A Simple Job Search Model\n",
    "\n",
    "- Each period $t \\in \\{1, \\cdots, T\\}$, an individual may stay home ($d_{1t} = 1$) or apply for temporary employment setting ($d_{2t}=1$). \n",
    "\n",
    "- Job applicants are successful with probability $\\lambda(x_t)$, and the value of the position depends on the experience of the individual denoted by $x \\in \\{1, \\cdots, X\\}$. \n",
    "$$\\lambda(x_{t}) = 0.2\\frac{x_t}{(T-1)}+0.8, ~~ x_t \\in \\{0, \\cdots, T-1\\}$$\n",
    "\n",
    "- If the individual works his experience increases by one unit, and remains at the current level otherwise.\n",
    "\n",
    "- The preference primitives are given by the current utility from staying home, denoted by $u_{1}(x_t) $, and the utility of working $u_2(x_t)$.\n",
    "$$ u_{1}(x_t) = 0, \\\\  u_2(x_t) = \\beta_0 + \\beta_1 \\left( \\frac{x_t}{T-1} \\right) $$\n",
    "\n",
    "- Data generating process parameters: $\\beta_0 = -0.3, ~ \\beta_1 = 2, ~ \\delta = 0.9$\n",
    "\n",
    "- Error term distribution: $\\epsilon_{1t}, ~\\epsilon_{2t}$ following Gumble distribution with location=0, scale=0.15 so that the error terms don't overwhelm the total values."
   ]
  },
  {
   "cell_type": "code",
   "execution_count": 1,
   "metadata": {
    "collapsed": true
   },
   "outputs": [
    {
     "name": "stdout",
     "output_type": "stream",
     "text": [
      "3\n"
     ]
    }
   ],
   "source": [
    "import numpy as np\n",
    "import pandas as pd\n",
    "import functools, itertools\n",
    "import os, time, random\n",
    "import matplotlib.pyplot as plt"
   ]
  },
  {
   "cell_type": "markdown",
   "metadata": {},
   "source": [
    "### Compute Future/Continuation Value\n",
    "\n",
    "Let the conditional choice value be:\n",
    "$$ v_{jt}(x_t) = u_{jt}(x_t) + \\delta E[V_{t+1}(x_{t+1}) | x_{t}, j]$$\n",
    "Here we're computing the second part of the total conditional value, where:\n",
    "$$\n",
    "E[V_{t+1}(x_{t+1}) | x_{t}, j] = E_{x_{t+1}, \\epsilon_{1t+1},\\epsilon_{2t+1}}\\left[\\max\\left\\{ u_{1t+1}(x_{t+1}) + \\epsilon_{1t+1} + \\delta E[V(x_{t+2})|x_{t+1}, j=1], \\\\\n",
    "u_{2t+1}(x_{t+1}) + \\epsilon_{2t+1} + \\delta E[V(x_{t+2})|x_{t+1}, j=2]\\right\\} |~x_t, j \\right]\n",
    "$$\n",
    "\n",
    "The transition of state variable $x_t$:\n",
    "$$\n",
    "F(x_{t+1} = x_t |x_t, j=1) = 1 \\\\\n",
    "F(x_{t+1} = x_t |x_t, j=2) = 1-\\lambda_{t} \\\\\n",
    "F(x_{t+1} = x_t+1 |x_t, j=2) = \\lambda_{t}\n",
    "$$\n",
    "\n",
    "So with current work experience $x_t$, if the current choice is $d_t=1$, the work experience next period $x_{t+1}$ is $x_t$ for sure. The continuation value at $t$ is $V(x_t)$.\n",
    "But if $d_t=2$, the work experience next period can be $x_t$ or $x_t+1$. The continuation value at $t$ is $\\lambda_t V(x_t+1)+(1-\\lambda_t) V(x_t)$.\n",
    "\n",
    "Here we compute the value function using Monte Carlo method, that is, we compute the expectation by taking an average of many simulations.\n",
    "\n",
    "\\begin{gather*}\n",
    "\\hat{V}_t(x_t) = \\frac{1}{N} \\sum_{i=1}^N \\max \\left\\lbrace \\epsilon_H^i + u_H(x_t) + \\delta \\hat{V}_t(x_t), \\\\\n",
    "\\epsilon_W^i + (1-\\lambda(x_t)) \\left[u_H(x) + \\delta \\hat{V}_t(x_t) \\right] + \\lambda(x_t) \\left[u_W(x) + \\delta \\hat{V}_t(x_t+1) \\right]  \\right\\rbrace\n",
    "\\end{gather*}"
   ]
  },
  {
   "cell_type": "markdown",
   "metadata": {},
   "source": [
    "## 2.1 Simulation using Recursive Function\n",
    "\n",
    "### A bit more coding trick:\n",
    "\n",
    "- Python allows recursive functions.\n",
    "- Recursive functions are sometimes easier to write and to read when the problem is recursive in nature (such as the classical Fibonacci function) than traditional iterations (for/while loops), but it's usually __much__ slower in Python.\n",
    "- However, one can improve the performance of recursion greatly in Python using \"memoization\".\n",
    "- Memoization means that we tell the program to memorize the \"intermediate\" results to avoid unnecessary calculations by keeping a \"memo\" of previous calculated results."
   ]
  },
  {
   "cell_type": "markdown",
   "metadata": {},
   "source": [
    "### Compute Expected Maximum of Two Random Variables\n",
    "\n",
    "Here we have a special case of a constant plus a TIEV random variable. So we can just generate a big list of TIEV random numbers, add the constant, and then take an average."
   ]
  },
  {
   "cell_type": "code",
   "execution_count": 3,
   "metadata": {
    "collapsed": false
   },
   "outputs": [],
   "source": [
    "def expectedMax(*args, mu=0, beta=0.125, size=2000):\n",
    "    # Use Monte Carlo method to compute Emax[val1+epsilon1, val2+epsilon2]\n",
    "    total_values = [args[i]+np.random.gumbel(mu, beta, size) for i in range(len(args))]\n",
    "    return np.average([max(x) for x in zip(*total_values)])"
   ]
  },
  {
   "cell_type": "code",
   "execution_count": 4,
   "metadata": {
    "collapsed": true
   },
   "outputs": [],
   "source": [
    "## success rate of job application\n",
    "success = lambda work_experience, T=10: (work_experience/(T-1))*0.2+0.8\n",
    "\n",
    "# decorator function: function that takes another function as argument\n",
    "def memoize(function):\n",
    "    memo = {}\n",
    "    def helper(x):\n",
    "        if x not in memo:            \n",
    "            memo[x] = function(x)\n",
    "        return memo[x]\n",
    "    return helper\n",
    "\n",
    "def saveData(res, T, N):\n",
    "    individuals = list(itertools.chain(*[[i]*T for i in range(N)]))\n",
    "    time_periods = list(itertools.chain(*[list(range(T)) for i in range(N)]))\n",
    "    work_experiences = list(itertools.chain(*[item[0] for item in res]))\n",
    "    choices = list(itertools.chain(*[item[1] for item in res]))\n",
    "    data = pd.DataFrame({'individual': individuals, 'age': time_periods, \n",
    "                         'work_experience': work_experiences, 'choice': choices})\n",
    "    return data"
   ]
  },
  {
   "cell_type": "code",
   "execution_count": 5,
   "metadata": {
    "collapsed": true
   },
   "outputs": [],
   "source": [
    "# simulate data given the parameter\n",
    "def dataSimulationRecursion(parameter, successRates, N=1000, T=10):\n",
    "    theta0, theta1, discount = parameter\n",
    "    utilityWork = [theta0+theta1*x/T for x in range(0,T)]\n",
    "    @memoize\n",
    "    def continuationValue(arg_tuple):\n",
    "        nonlocal discount, successRates\n",
    "        # nonlocal continuation_values\n",
    "        t, T, work_experience, current_choice = arg_tuple\n",
    "        work_experience = int(work_experience)\n",
    "        if t>=T-1:\n",
    "            # continuation_values[t][work_experience] = 0\n",
    "            return 0\n",
    "        else:\n",
    "            success_rate = successRates[int(work_experience)]\n",
    "            state_tuple_home = (t+1, T, work_experience, 1)\n",
    "            value_home = continuationValue(state_tuple_home)\n",
    "            state_tuple_work = (t+1, T, work_experience, 2)\n",
    "            value_work = (utilityWork[work_experience]+\n",
    "                             continuationValue(state_tuple_work))\n",
    "            if current_choice==1:\n",
    "                # now home -> state variable next period stays the same\n",
    "                continuation_value = discount*expectedMax(value_home, value_work)\n",
    "            else:\n",
    "                # now work -> state variable next period may change\n",
    "                # if job application succeeds\n",
    "                state_tuple_home_success = (t+1, T, work_experience+1, 1)\n",
    "                value_home_success = continuationValue(state_tuple_home_success)\n",
    "                state_tuple_work_success = (t+1, T, work_experience+1, 2)\n",
    "                value_work_success = (utilityWork[work_experience+1]+\n",
    "                             continuationValue(state_tuple_work_success))\n",
    "                # total continuation value\n",
    "                continuation_value = discount*(\n",
    "                    success_rate*expectedMax(value_home_success, value_work_success)+\n",
    "                    (1-success_rate)*expectedMax(value_home, value_work))\n",
    "            return continuation_value\n",
    "        \n",
    "    def generateChoices(T, successRates, discount, mu=0, beta=0.125):\n",
    "        # default mu and beta -> type I extreme value\n",
    "        work_experience = 0\n",
    "        work_experiences = [work_experience]\n",
    "        choices = []\n",
    "        actual_shock_home = np.random.gumbel(mu, beta, T)\n",
    "        actual_shock_work = np.random.gumbel(mu, beta, T)\n",
    "        t = 0\n",
    "        while t<=T-1:\n",
    "            success_rate = successRates[work_experience]\n",
    "            job_search = np.random.binomial(n=1, p=success_rate)\n",
    "            state_tuple_home = (t, T, work_experience, 1)\n",
    "            state_tuple_work = (t, T, work_experience, 2)\n",
    "            value_home = actual_shock_home[t]+continuationValue(state_tuple_home)\n",
    "            value_work = (actual_shock_work[t]+success_rate*utilityWork[work_experience]+\n",
    "                          continuationValue(state_tuple_work))\n",
    "            choices += [1+(value_home<=value_work)]\n",
    "            if t<T-1:\n",
    "                work_experience += int(job_search*(value_home<=value_work))\n",
    "                work_experiences += [work_experience]\n",
    "            t += 1\n",
    "        return work_experiences, choices\n",
    "    res = [generateChoices(T, successRates, discount) for i in range(N)]\n",
    "    data = saveData(res, T, N)\n",
    "    return data"
   ]
  },
  {
   "cell_type": "code",
   "execution_count": 6,
   "metadata": {
    "collapsed": false
   },
   "outputs": [
    {
     "name": "stdout",
     "output_type": "stream",
     "text": [
      "It takes 0.293 seconds to simulate 1000 individuals living for         10 periods\n"
     ]
    },
    {
     "data": {
      "text/html": [
       "<div>\n",
       "<style scoped>\n",
       "    .dataframe tbody tr th:only-of-type {\n",
       "        vertical-align: middle;\n",
       "    }\n",
       "\n",
       "    .dataframe tbody tr th {\n",
       "        vertical-align: top;\n",
       "    }\n",
       "\n",
       "    .dataframe thead th {\n",
       "        text-align: right;\n",
       "    }\n",
       "</style>\n",
       "<table border=\"1\" class=\"dataframe\">\n",
       "  <thead>\n",
       "    <tr style=\"text-align: right;\">\n",
       "      <th></th>\n",
       "      <th>age</th>\n",
       "      <th>choice</th>\n",
       "      <th>individual</th>\n",
       "      <th>work_experience</th>\n",
       "    </tr>\n",
       "  </thead>\n",
       "  <tbody>\n",
       "    <tr>\n",
       "      <th>0</th>\n",
       "      <td>0</td>\n",
       "      <td>2</td>\n",
       "      <td>0</td>\n",
       "      <td>0</td>\n",
       "    </tr>\n",
       "    <tr>\n",
       "      <th>1</th>\n",
       "      <td>1</td>\n",
       "      <td>2</td>\n",
       "      <td>0</td>\n",
       "      <td>1</td>\n",
       "    </tr>\n",
       "    <tr>\n",
       "      <th>2</th>\n",
       "      <td>2</td>\n",
       "      <td>2</td>\n",
       "      <td>0</td>\n",
       "      <td>2</td>\n",
       "    </tr>\n",
       "    <tr>\n",
       "      <th>3</th>\n",
       "      <td>3</td>\n",
       "      <td>2</td>\n",
       "      <td>0</td>\n",
       "      <td>3</td>\n",
       "    </tr>\n",
       "    <tr>\n",
       "      <th>4</th>\n",
       "      <td>4</td>\n",
       "      <td>2</td>\n",
       "      <td>0</td>\n",
       "      <td>4</td>\n",
       "    </tr>\n",
       "  </tbody>\n",
       "</table>\n",
       "</div>"
      ],
      "text/plain": [
       "   age  choice  individual  work_experience\n",
       "0    0       2           0                0\n",
       "1    1       2           0                1\n",
       "2    2       2           0                2\n",
       "3    3       2           0                3\n",
       "4    4       2           0                4"
      ]
     },
     "execution_count": 6,
     "metadata": {},
     "output_type": "execute_result"
    }
   ],
   "source": [
    "# simulate data\n",
    "start = time.time()\n",
    "T, N_individuals = 10, 1000\n",
    "successRates = [success(x) for x in range(T)]\n",
    "parameter = (-0.3, 1, 0.9)\n",
    "data_recursion = dataSimulationRecursion(parameter=parameter, \n",
    "        successRates=successRates)\n",
    "end = time.time()\n",
    "print(\"It takes {} seconds to simulate {} individuals living for \\\n",
    "        {} periods\".format(np.round(end-start,3),N_individuals,T))\n",
    "data_recursion.head()"
   ]
  },
  {
   "cell_type": "markdown",
   "metadata": {},
   "source": [
    "## 2.2 Simulation Using Iteration\n",
    "\n",
    "Another approach to compute the continuation value is to use iteration (for loops) instead. Here we need to apply backwards induction, and simulate from the last period to the first."
   ]
  },
  {
   "cell_type": "code",
   "execution_count": 7,
   "metadata": {
    "collapsed": false
   },
   "outputs": [],
   "source": [
    "def dataSimulationIteration(success_rates, parameters, N=2000, T=10):\n",
    "    theta0 = parameters[0]\n",
    "    theta1 = parameters[1]\n",
    "    discount = parameters[2]\n",
    "    N_sim = 2000\n",
    "    utilityWork = [theta0+theta1*x/T for x in range(0,T)]\n",
    "    utilityHome = [0]*T\n",
    "    # no need to allocate space to store\n",
    "    continuation_value = np.zeros((T+1,T+1))\n",
    "    sigma = 0.125\n",
    "    epsilon_work = np.random.gumbel(0,sigma,size = N_sim)\n",
    "    epsilon_home = np.random.gumbel(0,sigma,size = N_sim)  \n",
    "\n",
    "    for age in range(T-1, -1, -1): \n",
    "        for exp in range(age, -1, -1):              \n",
    "            success_rate = success_rates[exp]\n",
    "            value_hw = np.zeros((N_sim,2))\n",
    "            value_hw[:,0] = (utilityHome[exp] + epsilon_home + \n",
    "                             discount*continuation_value[age+1,exp])\n",
    "            value_hw[:,1] = epsilon_work + success_rate*(utilityWork[exp] + \n",
    "                            discount*continuation_value[age+1,exp+1]) + (\n",
    "                1-success_rate)*(utilityHome[exp] + discount*continuation_value[age+1,exp])\n",
    "            continuation_value[age,exp] = np.mean(np.max(value_hw,axis=1))\n",
    "\n",
    "    def individualSimulation(i):  \n",
    "        nonlocal T, success_rates, continuation_value, sigma\n",
    "\n",
    "        epsilon_work_i = np.random.gumbel(0,sigma,size = T)\n",
    "        epsilon_home_i = np.random.gumbel(0,sigma,size = T)\n",
    "        success_shock_sim = np.random.random(size=T)   \n",
    "        \n",
    "        exp_i = np.zeros((T,),dtype = int)\n",
    "        choice_i = np.zeros((T,),dtype = int)\n",
    "        \n",
    "        for age in range(T):            \n",
    "            success_rate = success_rates[exp_i[age]]\n",
    "            value_home = (utilityHome[exp_i[age]] + epsilon_home_i[age] + \n",
    "                          discount*continuation_value[age+1,exp_i[age]])\n",
    "            value_work = (epsilon_work_i[age] + success_rate*(utilityWork[exp_i[age]] + \n",
    "                          discount*continuation_value[age+1,exp_i[age]+1]) + \n",
    "                          (1-success_rate)*(utilityHome[exp_i[age]] + \n",
    "                        discount*continuation_value[age+1,exp_i[age]]))\n",
    "            choice_i[age] = 1 + int(value_home <= value_work)\n",
    "            \n",
    "            if (age < T-1):\n",
    "                    exp_i[age+1] = exp_i[age] + (choice_i[age] == 2) *(\n",
    "                        success_shock_sim[age] <= success_rate) \n",
    "            \n",
    "        matrix_sim_i = np.zeros((T,4),dtype = int)\n",
    "        matrix_sim_i[:,0] = i*np.ones((T,))\n",
    "        matrix_sim_i[:,1] = choice_i\n",
    "        matrix_sim_i[:,2] = exp_i\n",
    "        matrix_sim_i[:,3] = range(0,T)                    \n",
    "        return matrix_sim_i\n",
    "    \n",
    "    matrix_sim = np.zeros((N*T,4))           \n",
    "    for i in range(0,N):\n",
    "        \n",
    "        matrix_sim[i*T:(i+1)*T,:] = individualSimulation(i)\n",
    "        \n",
    "    df_sim = pd.DataFrame(matrix_sim, \n",
    "        columns=[\"individual\", \"choice\", \"work_experience\", \"age\"],dtype = int)\n",
    "            \n",
    "    return df_sim"
   ]
  },
  {
   "cell_type": "code",
   "execution_count": 8,
   "metadata": {
    "collapsed": false
   },
   "outputs": [
    {
     "name": "stdout",
     "output_type": "stream",
     "text": [
      "It takes 0.343 seconds to simulate 1000 individuals living for         10 periods\n"
     ]
    },
    {
     "data": {
      "text/html": [
       "<div>\n",
       "<style scoped>\n",
       "    .dataframe tbody tr th:only-of-type {\n",
       "        vertical-align: middle;\n",
       "    }\n",
       "\n",
       "    .dataframe tbody tr th {\n",
       "        vertical-align: top;\n",
       "    }\n",
       "\n",
       "    .dataframe thead th {\n",
       "        text-align: right;\n",
       "    }\n",
       "</style>\n",
       "<table border=\"1\" class=\"dataframe\">\n",
       "  <thead>\n",
       "    <tr style=\"text-align: right;\">\n",
       "      <th></th>\n",
       "      <th>individual</th>\n",
       "      <th>choice</th>\n",
       "      <th>work_experience</th>\n",
       "      <th>age</th>\n",
       "    </tr>\n",
       "  </thead>\n",
       "  <tbody>\n",
       "    <tr>\n",
       "      <th>0</th>\n",
       "      <td>0</td>\n",
       "      <td>2</td>\n",
       "      <td>0</td>\n",
       "      <td>0</td>\n",
       "    </tr>\n",
       "    <tr>\n",
       "      <th>1</th>\n",
       "      <td>0</td>\n",
       "      <td>2</td>\n",
       "      <td>1</td>\n",
       "      <td>1</td>\n",
       "    </tr>\n",
       "    <tr>\n",
       "      <th>2</th>\n",
       "      <td>0</td>\n",
       "      <td>2</td>\n",
       "      <td>2</td>\n",
       "      <td>2</td>\n",
       "    </tr>\n",
       "    <tr>\n",
       "      <th>3</th>\n",
       "      <td>0</td>\n",
       "      <td>1</td>\n",
       "      <td>3</td>\n",
       "      <td>3</td>\n",
       "    </tr>\n",
       "    <tr>\n",
       "      <th>4</th>\n",
       "      <td>0</td>\n",
       "      <td>2</td>\n",
       "      <td>3</td>\n",
       "      <td>4</td>\n",
       "    </tr>\n",
       "  </tbody>\n",
       "</table>\n",
       "</div>"
      ],
      "text/plain": [
       "   individual  choice  work_experience  age\n",
       "0           0       2                0    0\n",
       "1           0       2                1    1\n",
       "2           0       2                2    2\n",
       "3           0       1                3    3\n",
       "4           0       2                3    4"
      ]
     },
     "execution_count": 8,
     "metadata": {},
     "output_type": "execute_result"
    }
   ],
   "source": [
    "# simulate data\n",
    "start = time.time()\n",
    "successRates = [success(x) for x in range(10)]\n",
    "param0 = (-.3,1,0.9)\n",
    "data_iteration = dataSimulationIteration(successRates,parameters=param0)\n",
    "end = time.time()\n",
    "print(\"It takes {} seconds to simulate {} individuals living for \\\n",
    "        {} periods\".format(np.round(end-start,3), 1000, 10))\n",
    "data_iteration.head()"
   ]
  },
  {
   "cell_type": "markdown",
   "metadata": {},
   "source": [
    "## 3. Estimation Using Data\n",
    "General idea: minimizing the distance between simulated choice probabilities and empirical choice probabilities. (*Related lecture notes: http://www.its.caltech.edu/~mshum/gradio/single-dynamics2.pdf*)\n",
    "\n",
    "Procedure:\n",
    "1. Estimate conditional choice probability $\\hat{P}(d|X)$\n",
    "2. Estimate transition probability (job search success rate)\n",
    "3. Simulate value functions, generate model choice probability $\\tilde{P}(d|X, \\theta)$\n",
    "4. Estimate by minimum distance \n",
    "$$ \\min_{{\\theta}}\\left|\\left|\\mathbf{\\tilde{P}}(d|X, \\theta)-\\mathbf{\\hat{P}}(d|X)\\right|\\right|^2_2$$\n",
    "\n",
    "Note: To see more computation implementation of other methods (MPEC, NFP, .etc), I recommend Professor Param Vir Singh's class *PhD Seminar on Estimating Dynamic and Structural Models*. The course is taught in Matlab, but you're free to do the assignments in whatever language you like."
   ]
  },
  {
   "cell_type": "markdown",
   "metadata": {},
   "source": [
    "### Choice Probability\n",
    "Now, we we want to estimate the condtional choice probabilities. Given that the problem is non-stationary, we need to compute:\n",
    "$$\\hat{p}(d = 2|x,t)= \\frac{\\sum_{i=1}^N \\mathbf{1}  \\left( x_{it} = x, d_{it} = 2 \\right)}{\\sum_{i=1}^N \\mathbf{1} \\left( x_{it} = x \\right)}$$\n",
    "Now, it may be the case that for certain combinations of $(x,t)$, we do not have any observation.\n",
    "\n",
    "In our simulation, all agents are born in period $t=0$, and have no experience, so that \n",
    "$$x_{i0}=0 \\ \\forall i=1,\\cdots,N$$\n",
    "\n",
    "This also implies that in the data we will not observe $x_{it}>t$ for any agent $i$. If we define \n",
    "$$\\mathbf{\\hat{P}}=[\\hat{p}_{ij}] = [\\hat{p}(d =2 | t=i,x=j)]$$\n",
    "then we should expect $\\hat{\\mathbf{P}}$ to be defined only in its lower-triangular portion. "
   ]
  },
  {
   "cell_type": "markdown",
   "metadata": {},
   "source": [
    "### Transition Probability\n",
    "Now we want to estimate the probability of job acceptance conditional on the level of experience accumulated over the working life: \n",
    "$$\\hat{\\lambda} (x)  = \\frac{\\sum_{i=1}^N \\sum_{t=0}^{T-1} \\mathbf{1} \\left( x_{it}=x, x_{it+1} = x + 1, d_{it}=2  \\right)}{\\sum_{i=1}^N \\sum_{t=0}^{T-1} \\mathbf{1} \\left( x_{it}=x, d_{it}=2  \\right)}  $$"
   ]
  },
  {
   "cell_type": "code",
   "execution_count": 9,
   "metadata": {
    "collapsed": true
   },
   "outputs": [],
   "source": [
    "def ccp_fun(data, T=10):    \n",
    "    def ccp_state_fun(arg):\n",
    "        age , exp =  arg\n",
    "        mask_den = (data['age'] == age) & (data['work_experience'] == exp)\n",
    "        mask_num = (mask_den) & (data['choice'] == 2) \n",
    "        # weight ccp by number of observations\n",
    "        W_state = len(data[mask_den])\n",
    "        ccp_state = len(data[mask_num])/W_state if W_state>0 else 999\n",
    "        return ccp_state, W_state\n",
    "    output = [ccp_state_fun(item) for item in filter(lambda x: x[0]>=x[1], \n",
    "        itertools.product(range(T),range(T)))]\n",
    "    ccp = np.array([item[0] for item in output])\n",
    "    W = np.array([item[1] for item in output])\n",
    "    W = W/np.sum(W) \n",
    "    return ccp, W\n",
    "\n",
    "# estimation transition probability/success rate\n",
    "def p_acpt_fun(data, T=10):\n",
    "    data['future_work_experience'] = data['work_experience'].shift(-1).values.astype(int)\n",
    "    mask = data.age == T-1\n",
    "    data.loc[mask,'future_work_experience'] = 999    \n",
    "    p_acpt = np.zeros((T-1,))\n",
    "    for i in range(T-1):\n",
    "        num = len(data[(data['age'] < T-1) & (data['work_experience'] == i) & \n",
    "            (data['future_work_experience'] == i + 1) & (data['choice'] == 2)])\n",
    "        den = len(data[(data['age'] < T-1) & (data['work_experience'] == i) & \n",
    "            (data['choice'] == 2)]) \n",
    "        if den > 0:\n",
    "            p_acpt[i] = num/den\n",
    "        else:\n",
    "            p_acpt[i] = np.nan\n",
    "    return p_acpt"
   ]
  },
  {
   "cell_type": "markdown",
   "metadata": {},
   "source": [
    "## 3.1 Estimation Procedure with Recursion"
   ]
  },
  {
   "cell_type": "code",
   "execution_count": 10,
   "metadata": {
    "collapsed": false
   },
   "outputs": [
    {
     "data": {
      "image/png": "[encoded data removed]",
      "text/plain": [
       "<matplotlib.figure.Figure at 0x1cd1eddb080>"
      ]
     },
     "metadata": {},
     "output_type": "display_data"
    }
   ],
   "source": [
    "# estimate ccp and weights\n",
    "actual_ccp, actual_W = ccp_fun(data_recursion)\n",
    "# estimate success rates\n",
    "T = 10\n",
    "success_rates = np.zeros((T,)) \n",
    "success_rates[0:T-1] = p_acpt_fun(data_recursion)\n",
    "# replace nan to 0\n",
    "success_rates = [x if np.isnan(x)==False else 0 for x in success_rates]\n",
    "# plot estimated success rates v.s. theoretical success rates\n",
    "%matplotlib inline\n",
    "plt.figure()\n",
    "plt.plot(range(0,T-1),success_rates[0:T-1],'r',label='Empirical')\n",
    "plt.plot(range(0,T-1),[0.8 + 0.2/(T-1) * item for item in range(0,T-1)],'b',label = 'True')\n",
    "plt.xlabel(r'$x$')\n",
    "plt.ylabel(r'$\\lambda(x)$')\n",
    "plt.legend()\n",
    "plt.show()"
   ]
  },
  {
   "cell_type": "code",
   "execution_count": 11,
   "metadata": {
    "collapsed": true
   },
   "outputs": [],
   "source": [
    "# minimizing distance between predicted CCP and actual CCP\n",
    "def predictCCPRecursion(success_rates, parameters):\n",
    "    data = dataSimulationRecursion(parameters, success_rates)\n",
    "    ccp, W = ccp_fun(data)\n",
    "    return ccp, W\n",
    "\n",
    "def estimatorRecursion(parameters, actual_ccp, success_rates, actual_W):\n",
    "    predicted_ccp, W = predictCCPRecursion(success_rates, parameters)\n",
    "    distance = np.sum(np.multiply((predicted_ccp-actual_ccp)**2,W))\n",
    "    return distance"
   ]
  },
  {
   "cell_type": "code",
   "execution_count": 12,
   "metadata": {
    "collapsed": true
   },
   "outputs": [],
   "source": [
    "def estimationRecursion(data_recursion, parameter_combos):\n",
    "    actual_ccp, actual_W = ccp_fun(data_recursion)\n",
    "    # estimate success rates\n",
    "    T = 10\n",
    "    success_rates = np.zeros((T,)) \n",
    "    success_rates[0:T-1] = p_acpt_fun(data_recursion)\n",
    "    # replace nan to 0\n",
    "    success_rates = [x if np.isnan(x)==False else 0 for x in success_rates]\n",
    "    # grid search for minimum distance estimation\n",
    "    estimatorNewRecursion = functools.partial(estimatorRecursion, actual_ccp=actual_ccp, \n",
    "                            success_rates=success_rates, actual_W=actual_W)\n",
    "    obj = [estimatorNewRecursion(item) for item in parameter_combos]\n",
    "    # find parameters that gives the minimum distance\n",
    "    search_grid_sol = list(parameter_combos)[np.argmin(obj)]\n",
    "    return search_grid_sol"
   ]
  },
  {
   "cell_type": "code",
   "execution_count": 12,
   "metadata": {
    "collapsed": false
   },
   "outputs": [
    {
     "name": "stdout",
     "output_type": "stream",
     "text": [
      "The solution from the search-grid algorithm is :(-0.33333333333333337, 1.1111111111111112, 0.9).\n",
      "     It took a total of 194.134694814682 seconds to compute\n"
     ]
    }
   ],
   "source": [
    "# grid search for minimum distance estimation\n",
    "# true parameters = [-0.3, 1, 0.9]\n",
    "theta0_vec = np.linspace(-1, 0, 10)\n",
    "theta1_vec = np.linspace(0, 2, 10)\n",
    "discount_vec = np.linspace(0.8, 1, 5)\n",
    "\n",
    "parameter_combos = list(itertools.product(theta0_vec, theta1_vec, discount_vec))\n",
    "estimatorNewRecursion = functools.partial(estimatorRecursion, actual_ccp=actual_ccp, \n",
    "                        success_rates=success_rates, actual_W=actual_W)\n",
    "\n",
    "start = time.time()\n",
    "obj = [estimatorNewRecursion(item) for item in parameter_combos]\n",
    "end = time.time()\n",
    "\n",
    "# find parameters that gives the minimum distance\n",
    "search_grid_sol = parameter_combos[np.argmin(obj)]\n",
    "print(\"The solution from the search-grid algorithm is :{}.\\n \\\n",
    "    It took a total of {} seconds to compute\".format(search_grid_sol, end-start))"
   ]
  },
  {
   "cell_type": "code",
   "execution_count": 13,
   "metadata": {
    "collapsed": false
   },
   "outputs": [
    {
     "name": "stdout",
     "output_type": "stream",
     "text": [
      "      fun: 0.0531374235256095\n",
      " hess_inv: array([[ 0.67784799, -0.46740164, -0.08976955],\n",
      "       [-0.46740164,  0.35196037, -0.10851184],\n",
      "       [-0.08976955, -0.10851184,  0.99067569]])\n",
      "      jac: array([ 41151.34947714, 130968.32617273,  62918.00429488])\n",
      "  message: 'Desired error not necessarily achieved due to precision loss.'\n",
      "     nfev: 116\n",
      "      nit: 1\n",
      "     njev: 21\n",
      "   status: 2\n",
      "  success: False\n",
      "        x: array([1.69538183e-05, 1.00019415e-01, 5.00000983e-01])\n"
     ]
    }
   ],
   "source": [
    "# traditional optimization\n",
    "from scipy.optimize import minimize as smin\n",
    "print(smin(fun=estimatorNewRecursion, x0=(0, 0.1, 0.5)))"
   ]
  },
  {
   "cell_type": "markdown",
   "metadata": {},
   "source": [
    "## 3.1.a Estimating standard errors\n",
    "\n",
    "### Bootstrapping\n",
    "\n",
    "We can use bootstrap to estimate the standard errors of the coefficients. Specifically, we take $B$ resamples (with replacement) from the data, and estimate the coefficient for each subsample. Then calculate the standard error of the $B$ estimated coefficients.\n",
    "\n",
    "$$ SE(\\hat{\\theta}) = \\sqrt{\\frac{1}{B-1} \\sum_{b=1}^{B} (\\hat{\\theta}_b - \\bar{\\theta})^2} $$"
   ]
  },
  {
   "cell_type": "code",
   "execution_count": 26,
   "metadata": {
    "collapsed": true
   },
   "outputs": [],
   "source": [
    "from sklearn.utils import resample\n",
    "def getResample(data):\n",
    "    individuals = list(set(data.individual.values))\n",
    "    groups = data.groupby('individual')\n",
    "    sub_index = resample(individuals, replace=True, n_samples=len(individuals))\n",
    "    subsample = pd.concat([groups.get_group(i) for i in sub_index])\n",
    "    return subsample\n",
    "\n",
    "# calculate standard errors\n",
    "def standardErrors(coefficients):\n",
    "    avg = np.average(coefficients)\n",
    "    se = np.sqrt(np.sum((coefficients-avg)**2)/(len(coefficients)-1))\n",
    "    return se"
   ]
  },
  {
   "cell_type": "code",
   "execution_count": null,
   "metadata": {},
   "outputs": [],
   "source": [
    "theta0_vec = np.linspace(-1, 0, 7)\n",
    "theta1_vec = np.linspace(0, 2, 7)\n",
    "discount_vec = np.linspace(0.8, 1, 3)\n",
    "n_bootstrap = 10\n",
    "bootstrap_args = (data_recursion, theta0_vec, theta1_vec, discount_vec, n_bootstrap)\n",
    "\n",
    "## without multiprocessing\n",
    "def bootstrapEstimation(args):\n",
    "    data, theta0_vec, theta1_vec, discount_vec, n_bootstrap = args\n",
    "    coeffs = []\n",
    "    for i in range(n_bootstrap):\n",
    "        subsample = getResample(data)\n",
    "        print(len(set(subsample.individual.values)))\n",
    "        parameter_combos = list(itertools.product(theta0_vec, theta1_vec, discount_vec))\n",
    "        coeffs += [estimationRecursion(subsample, parameter_combos)]\n",
    "    return coeffs\n",
    "\n",
    "start = time.time()\n",
    "bootstrap_coeffs = bootstrapEstimation(bootstrap_args)\n",
    "print('total computation time is %.2f' %(time.time()-start))\n",
    "# get mean and standard errors\n",
    "num_parameters = 3\n",
    "bootstrap_coeffs = [np.array([x[i] for x in bootstrap_coeffs]\n",
    "                            ) for i in range(num_parameters)]\n",
    "print(bootstrap_coeffs)\n",
    "bootstrap_means = [np.mean(x) for x in bootstrap_coeffs]\n",
    "bootstrap_standard_errors = [standardErrors(x) for x in bootstrap_coeffs]\n",
    "print('standard errors are %.4f for theta0, %.4f for theta1 and \\\n",
    "        %.4f for discount factor' %tuple(bootstrap_standard_errors))"
   ]
  },
  {
   "cell_type": "markdown",
   "metadata": {},
   "source": [
    "### Parallelism in Python\n",
    "\n",
    "Introduction: [Multiprocessing v.s. threading in Python](https://timber.io/blog/multiprocessing-vs-multithreading-in-python-what-you-need-to-know/)\n",
    "\n",
    "__For more tutorials on multiprocessing__:\n",
    "\n",
    "Function `multiBootstrap(args, nprocs)` is based on [Python - parallelizing CPU-bound tasks with multiprocessing](https://eli.thegreenplace.net/2012/01/16/python-parallelizing-cpu-bound-tasks-with-multiprocessing/)"
   ]
  },
  {
   "cell_type": "code",
   "execution_count": null,
   "metadata": {
    "collapsed": true
   },
   "outputs": [],
   "source": [
    "## with multiprocessing\n",
    "def estimationRecursion(args):\n",
    "    data_recursion, parameter_combos = args\n",
    "    actual_ccp, actual_W = ccp_fun(data_recursion)\n",
    "    # estimate success rates\n",
    "    T = 10\n",
    "    success_rates = np.zeros((T,)) \n",
    "    success_rates[0:T-1] = p_acpt_fun(data_recursion)\n",
    "    # replace nan to 0\n",
    "    success_rates = [x if np.isnan(x)==False else 0 for x in success_rates]\n",
    "    # grid search for minimum distance estimation\n",
    "    estimatorNewRecursion = functools.partial(estimatorRecursion, actual_ccp=actual_ccp, \n",
    "                            success_rates=success_rates, actual_W=actual_W)\n",
    "    obj = [estimatorNewRecursion(item) for item in parameter_combos]\n",
    "    # find parameters that gives the minimum distance\n",
    "    search_grid_sol = list(parameter_combos)[np.argmin(obj)]\n",
    "    return search_grid_sol\n",
    "\n",
    "def multiBootstrap(args, nprocs):\n",
    "    def worker(args, out_q):\n",
    "        outlist = []\n",
    "        for arg in args:\n",
    "            coefficients = estimationRecursion(arg)\n",
    "        out_q.put(outlist)\n",
    "    out_q = Queue()\n",
    "    procs = []\n",
    "    chunksize = len(args)//nprocs\n",
    "    for i in range(nprocs):\n",
    "        chunk = args[i*chunksize:(i+1)*chunksize]\n",
    "        p = Process(target=worker,\n",
    "                args=(chunk, out_q))\n",
    "        procs.append(p)\n",
    "        p.start()\n",
    "    # Collect all results into a single result list\n",
    "    resultlist = []\n",
    "    for i in range(nprocs):\n",
    "        resultlist += [out_q.get()]\n",
    "    # Wait for all worker processes to finish\n",
    "    for p in procs:\n",
    "        p.join()\n",
    "    return resultlist"
   ]
  },
  {
   "cell_type": "code",
   "execution_count": null,
   "metadata": {
    "collapsed": true
   },
   "outputs": [],
   "source": [
    "n_bootstrap = 2**7\n",
    "## with multiprocessing\n",
    "from multiprocessing import cpu_count, Process, Queue\n",
    "parameter_combos = tuple(list(itertools.product(theta0_vec, theta1_vec, discount_vec)))\n",
    "grid_size = len(parameter_combos)\n",
    "N_individuals = 1000\n",
    "args = [(getResample(data_recursion), parameter_combos) for i in range(n_bootstrap)]\n",
    "start = time.time()\n",
    "result = multiBootstrap(args, cpu_count())\n",
    "print(result)\n",
    "print(\"total time used for bootstrapping %d times of grid size %d is %.2f seconds\" \n",
    "      %(n_bootstrap, grid_size, time.time()-start))\n",
    "# should be 32 items in bootstrap_coeffs\n",
    "bootstrap_coeffs = list(itertools.chain(*result))\n",
    "num_parameters = 3\n",
    "bootstrap_coeffs = [np.array([x[i] for x in bootstrap_coeffs]) for i in range(num_parameters)]\n",
    "bootstrap_means = tuple([np.mean(x) for x in bootstrap_coeffs])\n",
    "print(bootstrap_means)\n",
    "bootstrap_standard_errors = [standardErrors(x) for x in bootstrap_coeffs]\n",
    "print(bootstrap_standard_errors)"
   ]
  },
  {
   "cell_type": "markdown",
   "metadata": {},
   "source": [
    "## 3.2 Estimation Procedure with Iteration"
   ]
  },
  {
   "cell_type": "code",
   "execution_count": 14,
   "metadata": {
    "collapsed": false
   },
   "outputs": [],
   "source": [
    "# estimate ccp and weights\n",
    "actual_ccp, actual_W = ccp_fun(data_iteration)\n",
    "# estimate success rates\n",
    "T = 10\n",
    "success_rates = np.zeros((T,)) \n",
    "success_rates[0:T-1] = p_acpt_fun(data_iteration)\n",
    "# replace nan to 0\n",
    "success_rates = [x if np.isnan(x)==False else 0 for x in success_rates]"
   ]
  },
  {
   "cell_type": "code",
   "execution_count": 15,
   "metadata": {
    "collapsed": true
   },
   "outputs": [],
   "source": [
    "# minimizing distance between predicted CCP and actual CCP\n",
    "def predictCCP(success_rates, parameters):\n",
    "    data = dataSimulationIteration(success_rates, parameters)\n",
    "    ccp, W = ccp_fun(data)\n",
    "    return ccp, W\n",
    "\n",
    "def estimatorIteration(actual_ccp,success_rates,parameters):\n",
    "    predicted_ccp, W = predictCCP(success_rates, parameters)\n",
    "    distance = np.sum(np.multiply((predicted_ccp-actual_ccp)**2,W))\n",
    "    return distance"
   ]
  },
  {
   "cell_type": "code",
   "execution_count": 16,
   "metadata": {
    "collapsed": false,
    "scrolled": true
   },
   "outputs": [
    {
     "name": "stdout",
     "output_type": "stream",
     "text": [
      "The solution from the search-grid algorithm is :(-0.28571428571428581, 1.0, 0.89999999999999991).\n",
      "         It took a total of 235.0 seconds to compute\n"
     ]
    }
   ],
   "source": [
    "# grid search for minimum distance estimation\n",
    "theta0_vec = np.linspace(-1,0,15)\n",
    "theta1_vec = np.linspace(0,2,15)\n",
    "discount_vec = np.linspace(0.85,0.95,3)\n",
    "\n",
    "start = time.time()\n",
    "obj = list(map(functools.partial(estimatorIteration,actual_ccp,success_rates),\n",
    "               itertools.product(theta0_vec,theta1_vec,discount_vec)))\n",
    "search_grid_sol = list(itertools.product(theta0_vec,theta1_vec,discount_vec))[np.argmin(obj)]\n",
    "end = time.time()\n",
    "\n",
    "print(\"The solution from the search-grid algorithm is :{}.\\n \\\n",
    "        It took a total of {} seconds to compute\".format(search_grid_sol,np.round(end-start),2))"
   ]
  },
  {
   "cell_type": "code",
   "execution_count": 30,
   "metadata": {
    "collapsed": false,
    "scrolled": true
   },
   "outputs": [
    {
     "data": {
      "text/plain": [
       "<mpl_toolkits.mplot3d.art3d.Path3DCollection at 0x1cd2251e320>"
      ]
     },
     "execution_count": 30,
     "metadata": {},
     "output_type": "execute_result"
    },
    {
     "data": {
      "image/png": "[encoded data removed]",
      "text/plain": [
       "<matplotlib.figure.Figure at 0x1cd22304860>"
      ]
     },
     "metadata": {},
     "output_type": "display_data"
    }
   ],
   "source": [
    "from mpl_toolkits import mplot3d\n",
    "\n",
    "plt.figure()\n",
    "ax = plt.axes(projection='3d')\n",
    "xline = [item[0] for item in itertools.product(\n",
    "    theta0_vec,theta1_vec,discount_vec) if item[2]==discount_vec[0]]\n",
    "yline = [item[1] for item in itertools.product(\n",
    "    theta0_vec,theta1_vec,discount_vec) if item[2]==discount_vec[0]]\n",
    "zline = [item[0] for item in zip(obj,itertools.product(\n",
    "    theta0_vec,theta1_vec,discount_vec)) if item[1][2] == discount_vec[0]]\n",
    "\n",
    "ax.scatter3D(xline,yline,zline, c='r')"
   ]
  },
  {
   "cell_type": "markdown",
   "metadata": {},
   "source": [
    "## Bayesian Optimization\n",
    "\n",
    "A smarter way to search for the solution of minimization. \n",
    "\n",
    "- [An Introductory Example of Bayesian Optimization in Python with Hyperopt](https://towardsdatascience.com/an-introductory-example-of-bayesian-optimization-in-python-with-hyperopt-aae40fff4ff0)\n",
    "\n",
    "- [Official git repository of HyperOpt](https://github.com/hyperopt/hyperopt)"
   ]
  },
  {
   "cell_type": "code",
   "execution_count": 31,
   "metadata": {
    "collapsed": false
   },
   "outputs": [
    {
     "name": "stdout",
     "output_type": "stream",
     "text": [
      "100%|████| 2000/2000 [12:06<00:00,  2.73it/s, best loss: 0.0029346613200324934]\n",
      "The solution from the Bayesian Optimization algorithm is :{'discount': 0.9073350094784516, 'theta0': -0.3106940042587562, 'theta1': 1.0256471491391026}\n"
     ]
    }
   ],
   "source": [
    "from hyperopt import fmin, hp, tpe, Trials\n",
    "\n",
    "tpe_trials = Trials()\n",
    "tpe_algo = tpe.suggest\n",
    "space = [hp.normal('theta0', 0, 2), hp.normal('theta1', 0, 2), hp.uniform('discount', 0.1, 1)]\n",
    "estimatorNew = functools.partial(estimatorIteration,actual_ccp,success_rates)\n",
    "best = fmin(fn = estimatorNew, space = space, algo=tpe.suggest, max_evals = 2000)\n",
    "print(\"The solution from the Bayesian Optimization algorithm is :{}\".format(best))\n"
   ]
  },
  {
   "cell_type": "markdown",
   "metadata": {},
   "source": [
    "## Fully Parametric Bootstrapping"
   ]
  },
  {
   "cell_type": "code",
   "execution_count": null,
   "metadata": {
    "collapsed": true
   },
   "outputs": [],
   "source": [
    "for i in range(0,100):\n",
    "    data_bootstrap = dataSimulationIteration(success_rates,parameters=(best['theta0'], best['theta1'], best['discount']))\n",
    "    ccp_bootstrap, W_bootstrap = ccp_fun(data_bootstrap)\n",
    "    success_rates_bootstrap = np.zeros((T,)) \n",
    "    success_rates_bootstrap[0:T-1] = p_acpt_fun(data_bootstrap)\n",
    "    estimatorNew_bootstrap = functools.partial(estimator,ccp_bootstrap,success_rates_bootstrap)\n",
    "    space_bootstrap = [hp.normal('theta0',best['theta0'], 0.5), hp.normal('theta1', best['theta1'], 0.5), hp.uniform('discount', .8, 1)]\n",
    "    sol_bootstrap = fmin(fn = estimatorNew_bootstrap, space = space_bootstrap, algo=tpe.suggest, max_evals = 500)\n",
    "    estimates_bootstrap.append(sol_bootstrap)"
   ]
  },
  {
   "cell_type": "code",
   "execution_count": 26,
   "metadata": {
    "collapsed": false
   },
   "outputs": [
    {
     "name": "stdout",
     "output_type": "stream",
     "text": [
      "The standard deviation of the discount factor is: 0.011\n",
      "The standard deviation of the intercept is: 0.016\n",
      "The standard deviation of the slope is: 0.048\n"
     ]
    }
   ],
   "source": [
    "discount_bootstrap = [ item['discount'] for item in estimates_bootstrap]\n",
    "discount_std = np.std(discount_bootstrap)\n",
    "theta0_bootstrap = [ item['theta0'] for item in estimates_bootstrap]\n",
    "theta0_std = np.std(theta0_bootstrap)\n",
    "theta1_bootstrap = [ item['theta1'] for item in estimates_bootstrap]\n",
    "theta1_std = np.std(theta1_bootstrap)\n",
    "print(\"The standard deviation of the discount factor is: {}\".format(np.round(discount_std,3)))\n",
    "print(\"The standard deviation of the intercept is: {}\".format(np.round(theta0_std,3)))\n",
    "print(\"The standard deviation of the slope is: {}\".format(np.round(theta1_std,3)))"
   ]
  }
 ],
 "metadata": {
  "kernelspec": {
   "display_name": "Python 3",
   "language": "python",
   "name": "python3"
  },
  "language_info": {
   "codemirror_mode": {
    "name": "ipython",
    "version": 3
   },
   "file_extension": ".py",
   "mimetype": "text/x-python",
   "name": "python",
   "nbconvert_exporter": "python",
   "pygments_lexer": "ipython3",
   "version": "3.6.0"
  }
 },
 "nbformat": 4,
 "nbformat_minor": 2
}
